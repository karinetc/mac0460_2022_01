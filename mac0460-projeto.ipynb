{
  "cells": [
    {
      "cell_type": "markdown",
      "metadata": {
        "id": "8tQIRwIz6wNJ"
      },
      "source": [
        "### Importando bibliotecas"
      ]
    },
    {
      "cell_type": "code",
      "execution_count": 77,
      "metadata": {
        "colab": {
          "base_uri": "https://localhost:8080/"
        },
        "id": "cZCgU4JH7zJg",
        "outputId": "92b71f99-383e-4309-9a51-789a1cfac1e9"
      },
      "outputs": [
        {
          "output_type": "stream",
          "name": "stdout",
          "text": [
            "`%tensorflow_version` only switches the major version: 1.x or 2.x.\n",
            "You set: `1x`. This will be interpreted as: `1.x`.\n",
            "\n",
            "\n",
            "WARNING: Tensorflow 1 is deprecated, and support will be removed on August 1, 2022.\n",
            "After that, `%tensorflow_version 1.x` will throw an error.\n",
            "\n",
            "Your notebook should be updated to use Tensorflow 2.\n",
            "See the guide at https://www.tensorflow.org/guide/migrate#migrate-from-tensorflow-1x-to-tensorflow-2.\n",
            "\n",
            "TensorFlow is already loaded. Please restart the runtime to change versions.\n"
          ]
        }
      ],
      "source": [
        "tensorflow_version 1x "
      ]
    },
    {
      "cell_type": "code",
      "execution_count": 78,
      "metadata": {
        "id": "vt9rz4ox6wNO"
      },
      "outputs": [],
      "source": [
        "import numpy as np\n",
        "import pandas as pd\n",
        "from sklearn.neighbors import KNeighborsClassifier\n",
        "from sklearn.model_selection import cross_val_score,StratifiedKFold\n",
        "from sklearn.linear_model import LogisticRegression\n",
        "from sklearn.metrics import accuracy_score\n",
        "from sklearn.model_selection import train_test_split\n",
        "from sklearn import preprocessing\n",
        "from sklearn import tree\n",
        "from sklearn.naive_bayes import MultinomialNB\n",
        "from sklearn.decomposition import PCA\n",
        "from sklearn.ensemble import RandomForestClassifier\n",
        "from sklearn.metrics import classification_report, confusion_matrix\n",
        "from tensorflow.python import keras\n",
        "from tensorflow.python.keras.models import Sequential\n",
        "from tensorflow.python.keras.layers import Dense, Flatten, Conv2D, Dropout, MaxPooling2D #, BatchNormalization\n",
        "from tensorflow.keras.layers import BatchNormalization\n",
        "from IPython.display import SVG\n",
        "from keras.utils.vis_utils import model_to_dot\n",
        "#from keras.utils import plot_model\n",
        "from keras.utils.vis_utils import plot_model\n",
        "import seaborn as sns\n",
        "import matplotlib.pyplot as plt\n",
        "from tqdm import tqdm_notebook\n",
        "from keras.utils import np_utils"
      ]
    },
    {
      "cell_type": "markdown",
      "metadata": {
        "id": "VGTSU-JD6wNR"
      },
      "source": [
        "### Lendo os dados de treino: ----"
      ]
    },
    {
      "cell_type": "code",
      "execution_count": 79,
      "metadata": {
        "id": "EtuobdPG6wNS"
      },
      "outputs": [],
      "source": [
        "def load(f):\n",
        "    return np.load(f)['arr_0']\n",
        "\n",
        "x_train = load('k49-train-imgs.npz')\n",
        "y_train = load('k49-train-labels.npz')\n",
        "\n",
        "x_test = load('k49-test-imgs.npz')\n",
        "y_test = load('k49-test-labels.npz')\n",
        "\n",
        "# Flatten images\n",
        "x_train = x_train.reshape(-1, 784)\n",
        "x_test = x_test.reshape(-1, 784)\n",
        "\n",
        "#scaler = preprocessing.StandardScaler().fit(x_train)\n"
      ]
    },
    {
      "cell_type": "markdown",
      "metadata": {
        "id": "DhIy_CvU6wNT"
      },
      "source": [
        "### Quantas observações por classe:"
      ]
    },
    {
      "cell_type": "code",
      "execution_count": 80,
      "metadata": {
        "id": "0VdrPKaV6wNT"
      },
      "outputs": [],
      "source": [
        "observacoes_por_classe = pd.Series(y_train).astype(int).value_counts()"
      ]
    },
    {
      "cell_type": "code",
      "execution_count": 81,
      "metadata": {
        "colab": {
          "base_uri": "https://localhost:8080/"
        },
        "id": "qE556SoK6wNU",
        "outputId": "f6b1c9b3-58bb-40a5-f904-01fe4c873444"
      },
      "outputs": [
        {
          "output_type": "execute_result",
          "data": {
            "text/plain": [
              "45     392\n",
              "44     417\n",
              "3      777\n",
              "36    1598\n",
              "32    1718\n",
              "29    1993\n",
              "22    2063\n",
              "42    2139\n",
              "43    2397\n",
              "23    2451\n",
              "16    2565\n",
              "31    3060\n",
              "33    3394\n",
              "48    3523\n",
              "14    3867\n",
              "13    4165\n",
              "8     4714\n",
              "26    5132\n",
              "47    6000\n",
              "12    6000\n",
              "27    6000\n",
              "15    6000\n",
              "24    6000\n",
              "46    6000\n",
              "30    6000\n",
              "4     6000\n",
              "39    6000\n",
              "2     6000\n",
              "6     6000\n",
              "1     6000\n",
              "18    6000\n",
              "19    6000\n",
              "41    6000\n",
              "28    6000\n",
              "40    6000\n",
              "34    6000\n",
              "38    6000\n",
              "5     6000\n",
              "17    6000\n",
              "9     6000\n",
              "11    6000\n",
              "0     6000\n",
              "21    6000\n",
              "37    6000\n",
              "25    6000\n",
              "20    6000\n",
              "7     6000\n",
              "35    6000\n",
              "10    6000\n",
              "dtype: int64"
            ]
          },
          "metadata": {},
          "execution_count": 81
        }
      ],
      "source": [
        "observacoes_por_classe.sort_values(ascending=True)  ##classe com o menor número de observações"
      ]
    },
    {
      "cell_type": "code",
      "execution_count": 82,
      "metadata": {
        "colab": {
          "base_uri": "https://localhost:8080/",
          "height": 611
        },
        "id": "tkBtnMt56wNW",
        "outputId": "e874ae7f-7adc-40b3-f9aa-88e739b23025",
        "scrolled": true
      },
      "outputs": [
        {
          "output_type": "execute_result",
          "data": {
            "text/plain": [
              "<matplotlib.axes._subplots.AxesSubplot at 0x7fb122ca6e90>"
            ]
          },
          "metadata": {},
          "execution_count": 82
        },
        {
          "output_type": "display_data",
          "data": {
            "text/plain": [
              "<Figure size 1080x720 with 1 Axes>"
            ],
            "image/png": "[encoded data removed]"
          },
          "metadata": {
            "needs_background": "light"
          }
        }
      ],
      "source": [
        "observacoes_por_classe.sort_index().plot.bar(figsize=(15, 10))"
      ]
    },
    {
      "cell_type": "markdown",
      "metadata": {
        "id": "cvsSRpre6wNd"
      },
      "source": [
        "### Dividindo entre treino e validação"
      ]
    },
    {
      "cell_type": "code",
      "execution_count": 83,
      "metadata": {
        "id": "kdhZuw676wNd"
      },
      "outputs": [],
      "source": [
        "x_treino,x_val, y_treino, y_val  = train_test_split(x_train, y_train, test_size=0.20, random_state=42)"
      ]
    },
    {
      "cell_type": "markdown",
      "metadata": {
        "id": "8yeTbr1a6wNd"
      },
      "source": [
        "### Regressão Logística Multinomial"
      ]
    },
    {
      "cell_type": "code",
      "execution_count": 84,
      "metadata": {
        "colab": {
          "base_uri": "https://localhost:8080/"
        },
        "id": "u5vbIbSr6wNd",
        "outputId": "505d4e9f-e0ea-4ede-9b6a-1b4229a5b667"
      },
      "outputs": [
        {
          "output_type": "stream",
          "name": "stderr",
          "text": [
            "/usr/local/lib/python3.7/dist-packages/sklearn/linear_model/_logistic.py:818: ConvergenceWarning: lbfgs failed to converge (status=1):\n",
            "STOP: TOTAL NO. of ITERATIONS REACHED LIMIT.\n",
            "\n",
            "Increase the number of iterations (max_iter) or scale the data as shown in:\n",
            "    https://scikit-learn.org/stable/modules/preprocessing.html\n",
            "Please also refer to the documentation for alternative solver options:\n",
            "    https://scikit-learn.org/stable/modules/linear_model.html#logistic-regression\n",
            "  extra_warning_msg=_LOGISTIC_SOLVER_CONVERGENCE_MSG,\n"
          ]
        },
        {
          "output_type": "execute_result",
          "data": {
            "text/plain": [
              "LogisticRegression(max_iter=500, penalty='none')"
            ]
          },
          "metadata": {},
          "execution_count": 84
        }
      ],
      "source": [
        "#logreg = LogisticRegression(multi_class='multinomial', solver='lbfgs', max_iter=1000)\n",
        "logreg = LogisticRegression(penalty='none', max_iter=500)\n",
        "# fit the model on the whole dataset\n",
        "logreg.fit(x_treino, y_treino)"
      ]
    },
    {
      "cell_type": "code",
      "execution_count": 85,
      "metadata": {
        "id": "LSYreenu6wNe",
        "colab": {
          "base_uri": "https://localhost:8080/"
        },
        "outputId": "bbc79744-df7a-4c24-8906-482521b31da1"
      },
      "outputs": [
        {
          "output_type": "execute_result",
          "data": {
            "text/plain": [
              "0.6760269403739806"
            ]
          },
          "metadata": {},
          "execution_count": 85
        }
      ],
      "source": [
        "## Acurácia, acertos geral, na amostrane validação\n",
        "logreg.score(x_val, y_val)"
      ]
    },
    {
      "cell_type": "markdown",
      "metadata": {
        "id": "C95pQ3Cd6wNe"
      },
      "source": [
        "### Árvore de classificação:"
      ]
    },
    {
      "cell_type": "code",
      "execution_count": 86,
      "metadata": {
        "colab": {
          "base_uri": "https://localhost:8080/"
        },
        "id": "wq2vSTwA6wNf",
        "outputId": "e888c33b-01ab-4a40-da7c-6754916ccfff"
      },
      "outputs": [
        {
          "output_type": "execute_result",
          "data": {
            "text/plain": [
              "DecisionTreeClassifier()"
            ]
          },
          "metadata": {},
          "execution_count": 86
        }
      ],
      "source": [
        "arvore= tree.DecisionTreeClassifier()\n",
        "arvore.fit(x_treino, y_treino)"
      ]
    },
    {
      "cell_type": "code",
      "execution_count": 87,
      "metadata": {
        "colab": {
          "base_uri": "https://localhost:8080/"
        },
        "id": "gZGtYSGc6wNf",
        "outputId": "1d71d138-34f8-4f74-8ffe-bac2f5aa3964"
      },
      "outputs": [
        {
          "output_type": "execute_result",
          "data": {
            "text/plain": [
              "0.6038129666688185"
            ]
          },
          "metadata": {},
          "execution_count": 87
        }
      ],
      "source": [
        "## Acurácia, acertos geral, na amostrane validação\n",
        "arvore.score(x_val, y_val)"
      ]
    },
    {
      "cell_type": "markdown",
      "metadata": {
        "id": "AevfZr_56wNf"
      },
      "source": [
        "### 4 Vizinhos Mais Próximos:"
      ]
    },
    {
      "cell_type": "code",
      "execution_count": 88,
      "metadata": {
        "colab": {
          "base_uri": "https://localhost:8080/"
        },
        "id": "9KBMksJs6wNg",
        "outputId": "37ffd78b-e084-4148-9acc-0662612cb7cf"
      },
      "outputs": [
        {
          "output_type": "stream",
          "name": "stdout",
          "text": [
            "Fitting KNeighborsClassifier(n_jobs=-1, n_neighbors=4, weights='distance')\n",
            "Evaluating KNeighborsClassifier(n_jobs=-1, n_neighbors=4, weights='distance')\n",
            "Test accuracy: 0.9092376218449423\n"
          ]
        }
      ],
      "source": [
        "clf = KNeighborsClassifier(n_neighbors=4, weights='distance', n_jobs=-1)\n",
        "print('Fitting', clf)\n",
        "clf.fit(x_treino, y_treino)\n",
        "print('Evaluating', clf)\n",
        "\n",
        "test_score = clf.score(x_val, y_val)\n",
        "print('Test accuracy:', test_score)"
      ]
    },
    {
      "cell_type": "markdown",
      "metadata": {
        "id": "j0HRMsZf6wNg"
      },
      "source": [
        "### 5 Vizinhos Mais Próximos:"
      ]
    },
    {
      "cell_type": "code",
      "execution_count": 89,
      "metadata": {
        "colab": {
          "base_uri": "https://localhost:8080/"
        },
        "id": "w_-PjH4l6wNg",
        "outputId": "39185ad1-0125-4cf7-9275-b92d4a5ae059"
      },
      "outputs": [
        {
          "output_type": "stream",
          "name": "stdout",
          "text": [
            "Fitting KNeighborsClassifier(n_jobs=-1, weights='distance')\n",
            "Evaluating KNeighborsClassifier(n_jobs=-1, weights='distance')\n",
            "Test accuracy: 0.9056011017149743\n"
          ]
        }
      ],
      "source": [
        "clf = KNeighborsClassifier(n_neighbors=5, weights='distance', n_jobs=-1)\n",
        "print('Fitting', clf)\n",
        "clf.fit(x_treino, y_treino)\n",
        "print('Evaluating', clf)\n",
        "\n",
        "test_score = clf.score(x_val, y_val)\n",
        "print('Test accuracy:', test_score)"
      ]
    },
    {
      "cell_type": "markdown",
      "metadata": {
        "id": "9T5QtkbH6wNh"
      },
      "source": [
        "### 3 Vizinhos Mais Próximos:"
      ]
    },
    {
      "cell_type": "code",
      "execution_count": 90,
      "metadata": {
        "colab": {
          "base_uri": "https://localhost:8080/"
        },
        "id": "s5JaounD6wNh",
        "outputId": "54ed68e0-05fe-4cd4-d748-18ecf6abf492"
      },
      "outputs": [
        {
          "output_type": "stream",
          "name": "stdout",
          "text": [
            "Fitting KNeighborsClassifier(n_jobs=-1, n_neighbors=3, weights='distance')\n",
            "Evaluating KNeighborsClassifier(n_jobs=-1, n_neighbors=3, weights='distance')\n",
            "Test accuracy: 0.9081832461859575\n"
          ]
        }
      ],
      "source": [
        "clf = KNeighborsClassifier(n_neighbors=3, weights='distance', n_jobs=-1)\n",
        "print('Fitting', clf)\n",
        "clf.fit(x_treino, y_treino)\n",
        "print('Evaluating', clf)\n",
        "\n",
        "test_score = clf.score(x_val, y_val)\n",
        "print('Test accuracy:', test_score)"
      ]
    },
    {
      "cell_type": "markdown",
      "metadata": {
        "id": "XmU7HEzz6wNi"
      },
      "source": [
        "### Floresta Aleatória:"
      ]
    },
    {
      "cell_type": "code",
      "execution_count": 91,
      "metadata": {
        "colab": {
          "base_uri": "https://localhost:8080/"
        },
        "id": "ex-ddFeM6wNi",
        "outputId": "9d8fdfb7-46f0-49b2-b5a7-593f4d27bd1d"
      },
      "outputs": [
        {
          "output_type": "execute_result",
          "data": {
            "text/plain": [
              "0.8804251931228886"
            ]
          },
          "metadata": {},
          "execution_count": 91
        }
      ],
      "source": [
        "ra_fo = RandomForestClassifier(n_estimators=100)\n",
        "ra_fo.fit(x_treino, y_treino)\n",
        "ra_fo.score(x_val, y_val)"
      ]
    },
    {
      "cell_type": "markdown",
      "metadata": {
        "id": "Q2jA2c9H6wNi"
      },
      "source": [
        "## Redes Neurais:"
      ]
    },
    {
      "cell_type": "code",
      "execution_count": 92,
      "metadata": {
        "id": "tkenzJdr6wNj"
      },
      "outputs": [],
      "source": [
        "y_treino_catg = np_utils.to_categorical(y_treino)\n",
        "y_val_catg = np_utils.to_categorical(y_val)"
      ]
    },
    {
      "cell_type": "code",
      "execution_count": 93,
      "metadata": {
        "id": "2tGcUYdX6wNj"
      },
      "outputs": [],
      "source": [
        "IMG_ROWS = 28\n",
        "IMG_COLS = 28\n",
        "\n",
        "NUM_CLASSES = 49\n",
        "NO_EPOCHS = 25\n",
        "BATCH_SIZE = 128"
      ]
    },
    {
      "cell_type": "code",
      "execution_count": 100,
      "metadata": {
        "id": "fQEOne476wNj"
      },
      "outputs": [],
      "source": [
        "num_images_train = x_treino.shape[0]\n",
        "x_shaped_treino = x_treino.reshape(num_images_train, IMG_ROWS, IMG_COLS, 1)\n",
        "\n",
        "num_images_val = x_val.shape[0]\n",
        "x_shaped_val = x_val.reshape(num_images_val, IMG_ROWS, IMG_COLS, 1)"
      ]
    },
    {
      "cell_type": "code",
      "execution_count": 101,
      "metadata": {
        "id": "nU-uDR1A6wNk"
      },
      "outputs": [],
      "source": [
        "# Model\n",
        "model = Sequential()\n",
        "# Add convolution 2D\n",
        "model.add(Conv2D(32, kernel_size=(3, 3),activation='relu', padding=\"same\",\n",
        "        kernel_initializer='he_normal',input_shape=(IMG_ROWS, IMG_COLS, 1)))\n",
        "\n",
        "model.add(BatchNormalization())\n",
        "\n",
        "model.add(Conv2D(32,kernel_size=(3, 3), activation='relu'))\n",
        "model.add(BatchNormalization())\n",
        "model.add(Conv2D(32,kernel_size=5,strides=2,padding='same',activation='relu'))\n",
        "model.add(MaxPooling2D((2, 2)))\n",
        "model.add(BatchNormalization())\n",
        "model.add(Dropout(0.4))\n",
        "model.add(Flatten())\n",
        "model.add(Dense(128, activation='relu'))\n",
        "model.add(Dropout(0.4))\n",
        "model.add(Dense(NUM_CLASSES, activation='softmax'))"
      ]
    },
    {
      "cell_type": "code",
      "execution_count": 102,
      "metadata": {
        "id": "_JqC14l96wNk"
      },
      "outputs": [],
      "source": [
        "# Compile the model\n",
        "model.compile(loss = \"categorical_crossentropy\", optimizer=\"adam\", metrics=[\"accuracy\"])"
      ]
    },
    {
      "cell_type": "code",
      "execution_count": 103,
      "metadata": {
        "colab": {
          "base_uri": "https://localhost:8080/"
        },
        "id": "eN5IEZvL6wNk",
        "outputId": "6fc473e3-0220-4b0d-d3f6-45fcdf5e7e9f"
      },
      "outputs": [
        {
          "output_type": "stream",
          "name": "stdout",
          "text": [
            "Model: \"sequential_8\"\n",
            "_________________________________________________________________\n",
            "Layer (type)                 Output Shape              Param #   \n",
            "=================================================================\n",
            "conv2d_22 (Conv2D)           (None, 28, 28, 32)        320       \n",
            "_________________________________________________________________\n",
            "batch_normalization_21 (Batc (None, 28, 28, 32)        128       \n",
            "_________________________________________________________________\n",
            "conv2d_23 (Conv2D)           (None, 26, 26, 32)        9248      \n",
            "_________________________________________________________________\n",
            "batch_normalization_22 (Batc (None, 26, 26, 32)        128       \n",
            "_________________________________________________________________\n",
            "conv2d_24 (Conv2D)           (None, 13, 13, 32)        25632     \n",
            "_________________________________________________________________\n",
            "max_pooling2d_7 (MaxPooling2 (None, 6, 6, 32)          0         \n",
            "_________________________________________________________________\n",
            "batch_normalization_23 (Batc (None, 6, 6, 32)          128       \n",
            "_________________________________________________________________\n",
            "dropout_14 (Dropout)         (None, 6, 6, 32)          0         \n",
            "_________________________________________________________________\n",
            "flatten_7 (Flatten)          (None, 1152)              0         \n",
            "_________________________________________________________________\n",
            "dense_14 (Dense)             (None, 128)               147584    \n",
            "_________________________________________________________________\n",
            "dropout_15 (Dropout)         (None, 128)               0         \n",
            "_________________________________________________________________\n",
            "dense_15 (Dense)             (None, 49)                6321      \n",
            "=================================================================\n",
            "Total params: 189,489\n",
            "Trainable params: 189,297\n",
            "Non-trainable params: 192\n",
            "_________________________________________________________________\n"
          ]
        }
      ],
      "source": [
        "model.summary()"
      ]
    },
    {
      "cell_type": "code",
      "execution_count": 104,
      "metadata": {
        "colab": {
          "base_uri": "https://localhost:8080/"
        },
        "id": "eKQvvULV6wNl",
        "outputId": "99bf43a3-bb5d-4c51-def7-9f6860442f42"
      },
      "outputs": [
        {
          "output_type": "stream",
          "name": "stdout",
          "text": [
            "Train on 185892 samples, validate on 46473 samples\n",
            "Epoch 1/25\n",
            "185892/185892 [==============================] - 18s 97us/sample - loss: 0.9974 - acc: 0.7364 - val_loss: 0.3009 - val_acc: 0.9187\n",
            "Epoch 2/25\n",
            "185892/185892 [==============================] - 18s 98us/sample - loss: 0.5040 - acc: 0.8598 - val_loss: 0.2236 - val_acc: 0.9411\n",
            "Epoch 3/25\n",
            "185892/185892 [==============================] - 21s 112us/sample - loss: 0.4145 - acc: 0.8838 - val_loss: 0.1876 - val_acc: 0.9504\n",
            "Epoch 4/25\n",
            "185892/185892 [==============================] - 18s 96us/sample - loss: 0.3701 - acc: 0.8956 - val_loss: 0.1718 - val_acc: 0.9552\n",
            "Epoch 5/25\n",
            "185892/185892 [==============================] - 17s 93us/sample - loss: 0.3420 - acc: 0.9036 - val_loss: 0.1604 - val_acc: 0.9584\n",
            "Epoch 6/25\n",
            "185892/185892 [==============================] - 17s 92us/sample - loss: 0.3223 - acc: 0.9077 - val_loss: 0.1511 - val_acc: 0.9615\n",
            "Epoch 7/25\n",
            "185892/185892 [==============================] - 17s 91us/sample - loss: 0.3053 - acc: 0.9128 - val_loss: 0.1462 - val_acc: 0.9616\n",
            "Epoch 8/25\n",
            "185892/185892 [==============================] - 19s 102us/sample - loss: 0.2917 - acc: 0.9165 - val_loss: 0.1409 - val_acc: 0.9627\n",
            "Epoch 9/25\n",
            "185892/185892 [==============================] - 17s 91us/sample - loss: 0.2836 - acc: 0.9184 - val_loss: 0.1356 - val_acc: 0.9643\n",
            "Epoch 10/25\n",
            "185892/185892 [==============================] - 18s 95us/sample - loss: 0.2708 - acc: 0.9219 - val_loss: 0.1344 - val_acc: 0.9644\n",
            "Epoch 11/25\n",
            "185892/185892 [==============================] - 17s 92us/sample - loss: 0.2654 - acc: 0.9235 - val_loss: 0.1334 - val_acc: 0.9642\n",
            "Epoch 12/25\n",
            "185892/185892 [==============================] - 17s 93us/sample - loss: 0.2591 - acc: 0.9253 - val_loss: 0.1292 - val_acc: 0.9653\n",
            "Epoch 13/25\n",
            "185892/185892 [==============================] - 17s 91us/sample - loss: 0.2548 - acc: 0.9263 - val_loss: 0.1306 - val_acc: 0.9662\n",
            "Epoch 14/25\n",
            "185892/185892 [==============================] - 17s 91us/sample - loss: 0.2480 - acc: 0.9287 - val_loss: 0.1268 - val_acc: 0.9664\n",
            "Epoch 15/25\n",
            "185892/185892 [==============================] - 17s 92us/sample - loss: 0.2424 - acc: 0.9292 - val_loss: 0.1239 - val_acc: 0.9676\n",
            "Epoch 16/25\n",
            "185892/185892 [==============================] - 17s 93us/sample - loss: 0.2366 - acc: 0.9307 - val_loss: 0.1232 - val_acc: 0.9671\n",
            "Epoch 17/25\n",
            "185892/185892 [==============================] - 17s 92us/sample - loss: 0.2355 - acc: 0.9315 - val_loss: 0.1211 - val_acc: 0.9681\n",
            "Epoch 18/25\n",
            "185892/185892 [==============================] - 17s 91us/sample - loss: 0.2308 - acc: 0.9320 - val_loss: 0.1201 - val_acc: 0.9675\n",
            "Epoch 19/25\n",
            "185892/185892 [==============================] - 17s 91us/sample - loss: 0.2282 - acc: 0.9335 - val_loss: 0.1203 - val_acc: 0.9677\n",
            "Epoch 20/25\n",
            "185892/185892 [==============================] - 17s 93us/sample - loss: 0.2236 - acc: 0.9348 - val_loss: 0.1161 - val_acc: 0.9692\n",
            "Epoch 21/25\n",
            "185892/185892 [==============================] - 17s 91us/sample - loss: 0.2203 - acc: 0.9363 - val_loss: 0.1180 - val_acc: 0.9687\n",
            "Epoch 22/25\n",
            "185892/185892 [==============================] - 17s 91us/sample - loss: 0.2204 - acc: 0.9361 - val_loss: 0.1166 - val_acc: 0.9691\n",
            "Epoch 23/25\n",
            "185892/185892 [==============================] - 17s 93us/sample - loss: 0.2158 - acc: 0.9363 - val_loss: 0.1135 - val_acc: 0.9701\n",
            "Epoch 24/25\n",
            "185892/185892 [==============================] - 17s 91us/sample - loss: 0.2124 - acc: 0.9375 - val_loss: 0.1167 - val_acc: 0.9692\n",
            "Epoch 25/25\n",
            "185892/185892 [==============================] - 17s 91us/sample - loss: 0.2098 - acc: 0.9379 - val_loss: 0.1145 - val_acc: 0.9699\n"
          ]
        }
      ],
      "source": [
        "history = model.fit(x_shaped_treino, y_treino_catg,\n",
        "          batch_size=BATCH_SIZE,\n",
        "          epochs=NO_EPOCHS,\n",
        "          verbose=1,\n",
        "          validation_data=(x_shaped_val, y_val_catg))"
      ]
    },
    {
      "cell_type": "code",
      "execution_count": 105,
      "metadata": {
        "colab": {
          "base_uri": "https://localhost:8080/"
        },
        "id": "0c4W57pJ6wNl",
        "outputId": "9d9a0eff-9df7-4343-f099-40f8afc7617c"
      },
      "outputs": [
        {
          "output_type": "execute_result",
          "data": {
            "text/plain": [
              "array([0.96985346])"
            ]
          },
          "metadata": {},
          "execution_count": 105
        }
      ],
      "source": [
        "#get the predictions for the test data\n",
        "predicted_classes = model.predict_classes(x_shaped_val)\n",
        "#get the indices to be plotted\n",
        "y_true = np.argmax(y_val_catg,axis=1)\n",
        "\n",
        "((y_true==predicted_classes).sum())/ y_true.shape"
      ]
    },
    {
      "cell_type": "markdown",
      "source": [
        "## AMOSTRA DE TESTE:  APLICAÇÃO DE REDES NEURAIS"
      ],
      "metadata": {
        "id": "Ide6nHg6LSiV"
      }
    },
    {
      "cell_type": "markdown",
      "source": [
        ""
      ],
      "metadata": {
        "id": "G0BJEt4SLShN"
      }
    },
    {
      "cell_type": "code",
      "source": [
        "y_train_catg = np_utils.to_categorical(y_train)\n",
        "\n",
        "num_images_train = x_train.shape[0]\n",
        "x_shaped_train = x_train.reshape(num_images_train, IMG_ROWS, IMG_COLS, 1)"
      ],
      "metadata": {
        "id": "3TNY1CLmvwWf"
      },
      "execution_count": 106,
      "outputs": []
    },
    {
      "cell_type": "code",
      "source": [
        "# Model\n",
        "model = Sequential()\n",
        "# Add convolution 2D\n",
        "model.add(Conv2D(32, kernel_size=(3, 3),activation='relu', padding=\"same\",\n",
        "        kernel_initializer='he_normal',input_shape=(IMG_ROWS, IMG_COLS, 1)))\n",
        "\n",
        "model.add(BatchNormalization())\n",
        "\n",
        "model.add(Conv2D(32,kernel_size=(3, 3), activation='relu'))\n",
        "model.add(BatchNormalization())\n",
        "model.add(Conv2D(32,kernel_size=5,strides=2,padding='same',activation='relu'))\n",
        "model.add(MaxPooling2D((2, 2)))\n",
        "model.add(BatchNormalization())\n",
        "model.add(Dropout(0.4))\n",
        "model.add(Flatten())\n",
        "model.add(Dense(128, activation='relu'))\n",
        "model.add(Dropout(0.4))\n",
        "model.add(Dense(NUM_CLASSES, activation='softmax'))"
      ],
      "metadata": {
        "id": "HsvT2joGv5Sn"
      },
      "execution_count": 107,
      "outputs": []
    },
    {
      "cell_type": "code",
      "source": [
        "## Aplicando o modelo no dataset de teste completo\n",
        "y_test_catg = np_utils.to_categorical(y_test)\n",
        "\n",
        "num_images_test = x_test.shape[0]\n",
        "x_shaped_test = x_test.reshape(num_images_test, IMG_ROWS, IMG_COLS, 1)"
      ],
      "metadata": {
        "id": "zqANazJPLR9d"
      },
      "execution_count": 108,
      "outputs": []
    },
    {
      "cell_type": "code",
      "source": [
        "# Compile the model\n",
        "model.compile(loss = \"categorical_crossentropy\", optimizer=\"adam\", metrics=[\"accuracy\"])"
      ],
      "metadata": {
        "id": "VOKYkyTZvrwH"
      },
      "execution_count": 109,
      "outputs": []
    },
    {
      "cell_type": "code",
      "source": [
        "history = model.fit(x_shaped_train, y_train_catg,\n",
        "          batch_size=BATCH_SIZE,\n",
        "          epochs=NO_EPOCHS,\n",
        "          verbose=1)"
      ],
      "metadata": {
        "colab": {
          "base_uri": "https://localhost:8080/"
        },
        "id": "VeoHS2dJwB89",
        "outputId": "25edc811-9674-4209-b2f4-7f85ade3fe07"
      },
      "execution_count": 110,
      "outputs": [
        {
          "output_type": "stream",
          "name": "stdout",
          "text": [
            "Train on 232365 samples\n",
            "Epoch 1/25\n",
            "232365/232365 [==============================] - 20s 85us/sample - loss: 0.9065 - acc: 0.7591\n",
            "Epoch 2/25\n",
            "232365/232365 [==============================] - 20s 84us/sample - loss: 0.4621 - acc: 0.8718\n",
            "Epoch 3/25\n",
            "232365/232365 [==============================] - 19s 84us/sample - loss: 0.3813 - acc: 0.8938\n",
            "Epoch 4/25\n",
            "232365/232365 [==============================] - 19s 84us/sample - loss: 0.3424 - acc: 0.9040\n",
            "Epoch 5/25\n",
            "232365/232365 [==============================] - 20s 85us/sample - loss: 0.3189 - acc: 0.9100\n",
            "Epoch 6/25\n",
            "232365/232365 [==============================] - 19s 83us/sample - loss: 0.3004 - acc: 0.9150\n",
            "Epoch 7/25\n",
            "232365/232365 [==============================] - 19s 83us/sample - loss: 0.2871 - acc: 0.9191\n",
            "Epoch 8/25\n",
            "232365/232365 [==============================] - 20s 84us/sample - loss: 0.2723 - acc: 0.9220\n",
            "Epoch 9/25\n",
            "232365/232365 [==============================] - 19s 84us/sample - loss: 0.2662 - acc: 0.9241\n",
            "Epoch 10/25\n",
            "232365/232365 [==============================] - 19s 83us/sample - loss: 0.2563 - acc: 0.9269\n",
            "Epoch 11/25\n",
            "232365/232365 [==============================] - 20s 84us/sample - loss: 0.2500 - acc: 0.9286\n",
            "Epoch 12/25\n",
            "232365/232365 [==============================] - 19s 84us/sample - loss: 0.2426 - acc: 0.9305\n",
            "Epoch 13/25\n",
            "232365/232365 [==============================] - 19s 83us/sample - loss: 0.2390 - acc: 0.9316\n",
            "Epoch 14/25\n",
            "232365/232365 [==============================] - 19s 83us/sample - loss: 0.2334 - acc: 0.9328\n",
            "Epoch 15/25\n",
            "232365/232365 [==============================] - 20s 85us/sample - loss: 0.2304 - acc: 0.9338\n",
            "Epoch 16/25\n",
            "232365/232365 [==============================] - 19s 83us/sample - loss: 0.2264 - acc: 0.9347\n",
            "Epoch 17/25\n",
            "232365/232365 [==============================] - 19s 83us/sample - loss: 0.2217 - acc: 0.9361\n",
            "Epoch 18/25\n",
            "232365/232365 [==============================] - 20s 85us/sample - loss: 0.2184 - acc: 0.9369\n",
            "Epoch 19/25\n",
            "232365/232365 [==============================] - 19s 84us/sample - loss: 0.2147 - acc: 0.9378\n",
            "Epoch 20/25\n",
            "232365/232365 [==============================] - 19s 84us/sample - loss: 0.2134 - acc: 0.9386\n",
            "Epoch 21/25\n",
            "232365/232365 [==============================] - 20s 85us/sample - loss: 0.2109 - acc: 0.9390\n",
            "Epoch 22/25\n",
            "232365/232365 [==============================] - 20s 84us/sample - loss: 0.2086 - acc: 0.9394\n",
            "Epoch 23/25\n",
            "232365/232365 [==============================] - 19s 84us/sample - loss: 0.2042 - acc: 0.9407\n",
            "Epoch 24/25\n",
            "232365/232365 [==============================] - 19s 84us/sample - loss: 0.2024 - acc: 0.9411\n",
            "Epoch 25/25\n",
            "232365/232365 [==============================] - 20s 85us/sample - loss: 0.2019 - acc: 0.9416\n"
          ]
        }
      ]
    },
    {
      "cell_type": "code",
      "source": [
        "#get the predictions for the test data\n",
        "predicted_classes = model.predict_classes(x_shaped_test)\n",
        "#get the indices to be plotted\n",
        "y_true = np.argmax(y_test_catg,axis=1)\n",
        "\n",
        "((y_true==predicted_classes).sum())/ y_true.shape\n",
        "#.sum())/ y_true.shape"
      ],
      "metadata": {
        "id": "rIY6ERGiLR2V",
        "colab": {
          "base_uri": "https://localhost:8080/"
        },
        "outputId": "4fcfd117-8c27-41ad-c434-72b22b33ae76"
      },
      "execution_count": 111,
      "outputs": [
        {
          "output_type": "execute_result",
          "data": {
            "text/plain": [
              "array([0.94313436])"
            ]
          },
          "metadata": {},
          "execution_count": 111
        }
      ]
    },
    {
      "cell_type": "code",
      "source": [
        "## Matrix de confusão:\n",
        "retorno = classification_report(y_true, predicted_classes)"
      ],
      "metadata": {
        "id": "QmyHBcJ3LRsQ"
      },
      "execution_count": 112,
      "outputs": []
    },
    {
      "cell_type": "code",
      "source": [
        "print(retorno)"
      ],
      "metadata": {
        "colab": {
          "base_uri": "https://localhost:8080/"
        },
        "id": "c-eEQoVu8n4w",
        "outputId": "c22bcb17-f475-452d-f6f9-eb3bfc6b6319"
      },
      "execution_count": 113,
      "outputs": [
        {
          "output_type": "stream",
          "name": "stdout",
          "text": [
            "              precision    recall  f1-score   support\n",
            "\n",
            "           0       0.95      0.97      0.96      1000\n",
            "           1       0.99      0.97      0.98      1000\n",
            "           2       0.95      0.96      0.96      1000\n",
            "           3       0.90      0.87      0.88       126\n",
            "           4       0.95      0.96      0.95      1000\n",
            "           5       0.95      0.90      0.92      1000\n",
            "           6       0.96      0.92      0.94      1000\n",
            "           7       0.92      0.93      0.92      1000\n",
            "           8       0.88      0.95      0.92       767\n",
            "           9       0.94      0.94      0.94      1000\n",
            "          10       0.98      0.96      0.97      1000\n",
            "          11       0.97      0.95      0.96      1000\n",
            "          12       0.95      0.89      0.92      1000\n",
            "          13       0.97      0.83      0.90       678\n",
            "          14       0.93      0.91      0.92       629\n",
            "          15       0.96      0.95      0.96      1000\n",
            "          16       0.98      0.97      0.97       418\n",
            "          17       0.90      0.98      0.94      1000\n",
            "          18       0.95      0.94      0.94      1000\n",
            "          19       0.96      0.96      0.96      1000\n",
            "          20       0.91      0.92      0.92      1000\n",
            "          21       0.95      0.94      0.95      1000\n",
            "          22       0.90      0.95      0.92       336\n",
            "          23       0.93      0.96      0.94       399\n",
            "          24       0.96      0.95      0.96      1000\n",
            "          25       0.98      0.90      0.94      1000\n",
            "          26       0.99      0.96      0.98       836\n",
            "          27       0.97      0.91      0.94      1000\n",
            "          28       0.98      0.93      0.95      1000\n",
            "          29       0.88      0.93      0.90       324\n",
            "          30       0.83      0.98      0.90      1000\n",
            "          31       0.98      0.95      0.96       498\n",
            "          32       0.98      0.91      0.94       280\n",
            "          33       0.94      0.97      0.95       552\n",
            "          34       0.92      0.98      0.95      1000\n",
            "          35       0.92      0.96      0.94      1000\n",
            "          36       0.92      0.93      0.92       260\n",
            "          37       0.98      0.98      0.98      1000\n",
            "          38       0.93      0.96      0.94      1000\n",
            "          39       0.94      0.94      0.94      1000\n",
            "          40       0.91      0.92      0.92      1000\n",
            "          41       0.95      0.96      0.96      1000\n",
            "          42       0.93      0.96      0.94       348\n",
            "          43       0.98      0.91      0.94       390\n",
            "          44       0.94      0.74      0.83        68\n",
            "          45       0.84      0.91      0.87        64\n",
            "          46       0.94      0.97      0.95      1000\n",
            "          47       0.98      0.99      0.98      1000\n",
            "          48       0.90      0.87      0.89       574\n",
            "\n",
            "    accuracy                           0.94     38547\n",
            "   macro avg       0.94      0.94      0.94     38547\n",
            "weighted avg       0.94      0.94      0.94     38547\n",
            "\n"
          ]
        }
      ]
    },
    {
      "cell_type": "markdown",
      "metadata": {
        "id": "geWLwPuI6wNm"
      },
      "source": [
        "### \"Forçando um dataset balanceado\""
      ]
    },
    {
      "cell_type": "code",
      "execution_count": 114,
      "metadata": {
        "colab": {
          "base_uri": "https://localhost:8080/"
        },
        "id": "Msib4KpS6wNm",
        "outputId": "48554c59-d175-417c-86b3-b0d85277d85c"
      },
      "outputs": [
        {
          "output_type": "execute_result",
          "data": {
            "text/plain": [
              "392"
            ]
          },
          "metadata": {},
          "execution_count": 114
        }
      ],
      "source": [
        "balanceamento = observacoes_por_classe.min()\n",
        "balanceamento"
      ]
    },
    {
      "cell_type": "code",
      "execution_count": 115,
      "metadata": {
        "id": "zZCsLkUP6wNm"
      },
      "outputs": [],
      "source": [
        "## Transformar numpy em dataframe para esse sorteio: ---\n",
        "df_treino = pd.DataFrame(x_train)\n",
        "df_treino['y'] =  pd.DataFrame(y_train)"
      ]
    },
    {
      "cell_type": "code",
      "execution_count": 116,
      "metadata": {
        "colab": {
          "base_uri": "https://localhost:8080/",
          "height": 424
        },
        "id": "6LbkTj_o6wNn",
        "outputId": "3e01bfb0-8379-4383-f4ba-975658c2ed55"
      },
      "outputs": [
        {
          "output_type": "execute_result",
          "data": {
            "text/plain": [
              "        0  1  2  3  4  5  6  7    8   9  ...  775  776  777  778  779  780  \\\n",
              "0       0  0  0  0  0  0  0  0    0   0  ...    0    0    0    0    0    0   \n",
              "1       0  0  0  0  0  0  0  0    0   0  ...    3   11    2    0    0    0   \n",
              "2       0  0  0  0  0  0  0  0    0  85  ...    0    0    0    0    0    0   \n",
              "3       0  0  0  0  0  0  0  0    0   0  ...  255  155    0    0    0    0   \n",
              "4       0  0  0  0  0  0  0  0    0   0  ...   23  165   36    0    0    0   \n",
              "...    .. .. .. .. .. .. .. ..  ...  ..  ...  ...  ...  ...  ...  ...  ...   \n",
              "232360  0  0  0  0  0  0  0  0    0   0  ...    0    0    0    0    0    0   \n",
              "232361  0  0  0  0  0  0  0  3  109  87  ...    0    0    0    0    0    0   \n",
              "232362  0  0  0  0  0  0  0  0    0   0  ...  194  240   96    0    0    0   \n",
              "232363  0  0  0  0  0  0  0  0    0  19  ...    0    0    0    0    0    0   \n",
              "232364  0  0  0  0  0  0  0  0    0   0  ...    0    0    0    0    0    0   \n",
              "\n",
              "        781  782  783   y  \n",
              "0         0    0    0  30  \n",
              "1         0    0    0  19  \n",
              "2         0    0    0  20  \n",
              "3         0    0    0  30  \n",
              "4         0    0    0   7  \n",
              "...     ...  ...  ...  ..  \n",
              "232360    0    0    0  39  \n",
              "232361    0    0    0   5  \n",
              "232362    0    0    0  10  \n",
              "232363    0    0    0  39  \n",
              "232364    0    0    0  30  \n",
              "\n",
              "[232365 rows x 785 columns]"
            ],
            "text/html": [
              "\n",
              "  <div id=\"df-1751613a-0b8d-4947-883f-5c90e73c77dc\">\n",
              "    <div class=\"colab-df-container\">\n",
              "      <div>\n",
              "<style scoped>\n",
              "    .dataframe tbody tr th:only-of-type {\n",
              "        vertical-align: middle;\n",
              "    }\n",
              "\n",
              "    .dataframe tbody tr th {\n",
              "        vertical-align: top;\n",
              "    }\n",
              "\n",
              "    .dataframe thead th {\n",
              "        text-align: right;\n",
              "    }\n",
              "</style>\n",
              "<table border=\"1\" class=\"dataframe\">\n",
              "  <thead>\n",
              "    <tr style=\"text-align: right;\">\n",
              "      <th></th>\n",
              "      <th>0</th>\n",
              "      <th>1</th>\n",
              "      <th>2</th>\n",
              "      <th>3</th>\n",
              "      <th>4</th>\n",
              "      <th>5</th>\n",
              "      <th>6</th>\n",
              "      <th>7</th>\n",
              "      <th>8</th>\n",
              "      <th>9</th>\n",
              "      <th>...</th>\n",
              "      <th>775</th>\n",
              "      <th>776</th>\n",
              "      <th>777</th>\n",
              "      <th>778</th>\n",
              "      <th>779</th>\n",
              "      <th>780</th>\n",
              "      <th>781</th>\n",
              "      <th>782</th>\n",
              "      <th>783</th>\n",
              "      <th>y</th>\n",
              "    </tr>\n",
              "  </thead>\n",
              "  <tbody>\n",
              "    <tr>\n",
              "      <th>0</th>\n",
              "      <td>0</td>\n",
              "      <td>0</td>\n",
              "      <td>0</td>\n",
              "      <td>0</td>\n",
              "      <td>0</td>\n",
              "      <td>0</td>\n",
              "      <td>0</td>\n",
              "      <td>0</td>\n",
              "      <td>0</td>\n",
              "      <td>0</td>\n",
              "      <td>...</td>\n",
              "      <td>0</td>\n",
              "      <td>0</td>\n",
              "      <td>0</td>\n",
              "      <td>0</td>\n",
              "      <td>0</td>\n",
              "      <td>0</td>\n",
              "      <td>0</td>\n",
              "      <td>0</td>\n",
              "      <td>0</td>\n",
              "      <td>30</td>\n",
              "    </tr>\n",
              "    <tr>\n",
              "      <th>1</th>\n",
              "      <td>0</td>\n",
              "      <td>0</td>\n",
              "      <td>0</td>\n",
              "      <td>0</td>\n",
              "      <td>0</td>\n",
              "      <td>0</td>\n",
              "      <td>0</td>\n",
              "      <td>0</td>\n",
              "      <td>0</td>\n",
              "      <td>0</td>\n",
              "      <td>...</td>\n",
              "      <td>3</td>\n",
              "      <td>11</td>\n",
              "      <td>2</td>\n",
              "      <td>0</td>\n",
              "      <td>0</td>\n",
              "      <td>0</td>\n",
              "      <td>0</td>\n",
              "      <td>0</td>\n",
              "      <td>0</td>\n",
              "      <td>19</td>\n",
              "    </tr>\n",
              "    <tr>\n",
              "      <th>2</th>\n",
              "      <td>0</td>\n",
              "      <td>0</td>\n",
              "      <td>0</td>\n",
              "      <td>0</td>\n",
              "      <td>0</td>\n",
              "      <td>0</td>\n",
              "      <td>0</td>\n",
              "      <td>0</td>\n",
              "      <td>0</td>\n",
              "      <td>85</td>\n",
              "      <td>...</td>\n",
              "      <td>0</td>\n",
              "      <td>0</td>\n",
              "      <td>0</td>\n",
              "      <td>0</td>\n",
              "      <td>0</td>\n",
              "      <td>0</td>\n",
              "      <td>0</td>\n",
              "      <td>0</td>\n",
              "      <td>0</td>\n",
              "      <td>20</td>\n",
              "    </tr>\n",
              "    <tr>\n",
              "      <th>3</th>\n",
              "      <td>0</td>\n",
              "      <td>0</td>\n",
              "      <td>0</td>\n",
              "      <td>0</td>\n",
              "      <td>0</td>\n",
              "      <td>0</td>\n",
              "      <td>0</td>\n",
              "      <td>0</td>\n",
              "      <td>0</td>\n",
              "      <td>0</td>\n",
              "      <td>...</td>\n",
              "      <td>255</td>\n",
              "      <td>155</td>\n",
              "      <td>0</td>\n",
              "      <td>0</td>\n",
              "      <td>0</td>\n",
              "      <td>0</td>\n",
              "      <td>0</td>\n",
              "      <td>0</td>\n",
              "      <td>0</td>\n",
              "      <td>30</td>\n",
              "    </tr>\n",
              "    <tr>\n",
              "      <th>4</th>\n",
              "      <td>0</td>\n",
              "      <td>0</td>\n",
              "      <td>0</td>\n",
              "      <td>0</td>\n",
              "      <td>0</td>\n",
              "      <td>0</td>\n",
              "      <td>0</td>\n",
              "      <td>0</td>\n",
              "      <td>0</td>\n",
              "      <td>0</td>\n",
              "      <td>...</td>\n",
              "      <td>23</td>\n",
              "      <td>165</td>\n",
              "      <td>36</td>\n",
              "      <td>0</td>\n",
              "      <td>0</td>\n",
              "      <td>0</td>\n",
              "      <td>0</td>\n",
              "      <td>0</td>\n",
              "      <td>0</td>\n",
              "      <td>7</td>\n",
              "    </tr>\n",
              "    <tr>\n",
              "      <th>...</th>\n",
              "      <td>...</td>\n",
              "      <td>...</td>\n",
              "      <td>...</td>\n",
              "      <td>...</td>\n",
              "      <td>...</td>\n",
              "      <td>...</td>\n",
              "      <td>...</td>\n",
              "      <td>...</td>\n",
              "      <td>...</td>\n",
              "      <td>...</td>\n",
              "      <td>...</td>\n",
              "      <td>...</td>\n",
              "      <td>...</td>\n",
              "      <td>...</td>\n",
              "      <td>...</td>\n",
              "      <td>...</td>\n",
              "      <td>...</td>\n",
              "      <td>...</td>\n",
              "      <td>...</td>\n",
              "      <td>...</td>\n",
              "      <td>...</td>\n",
              "    </tr>\n",
              "    <tr>\n",
              "      <th>232360</th>\n",
              "      <td>0</td>\n",
              "      <td>0</td>\n",
              "      <td>0</td>\n",
              "      <td>0</td>\n",
              "      <td>0</td>\n",
              "      <td>0</td>\n",
              "      <td>0</td>\n",
              "      <td>0</td>\n",
              "      <td>0</td>\n",
              "      <td>0</td>\n",
              "      <td>...</td>\n",
              "      <td>0</td>\n",
              "      <td>0</td>\n",
              "      <td>0</td>\n",
              "      <td>0</td>\n",
              "      <td>0</td>\n",
              "      <td>0</td>\n",
              "      <td>0</td>\n",
              "      <td>0</td>\n",
              "      <td>0</td>\n",
              "      <td>39</td>\n",
              "    </tr>\n",
              "    <tr>\n",
              "      <th>232361</th>\n",
              "      <td>0</td>\n",
              "      <td>0</td>\n",
              "      <td>0</td>\n",
              "      <td>0</td>\n",
              "      <td>0</td>\n",
              "      <td>0</td>\n",
              "      <td>0</td>\n",
              "      <td>3</td>\n",
              "      <td>109</td>\n",
              "      <td>87</td>\n",
              "      <td>...</td>\n",
              "      <td>0</td>\n",
              "      <td>0</td>\n",
              "      <td>0</td>\n",
              "      <td>0</td>\n",
              "      <td>0</td>\n",
              "      <td>0</td>\n",
              "      <td>0</td>\n",
              "      <td>0</td>\n",
              "      <td>0</td>\n",
              "      <td>5</td>\n",
              "    </tr>\n",
              "    <tr>\n",
              "      <th>232362</th>\n",
              "      <td>0</td>\n",
              "      <td>0</td>\n",
              "      <td>0</td>\n",
              "      <td>0</td>\n",
              "      <td>0</td>\n",
              "      <td>0</td>\n",
              "      <td>0</td>\n",
              "      <td>0</td>\n",
              "      <td>0</td>\n",
              "      <td>0</td>\n",
              "      <td>...</td>\n",
              "      <td>194</td>\n",
              "      <td>240</td>\n",
              "      <td>96</td>\n",
              "      <td>0</td>\n",
              "      <td>0</td>\n",
              "      <td>0</td>\n",
              "      <td>0</td>\n",
              "      <td>0</td>\n",
              "      <td>0</td>\n",
              "      <td>10</td>\n",
              "    </tr>\n",
              "    <tr>\n",
              "      <th>232363</th>\n",
              "      <td>0</td>\n",
              "      <td>0</td>\n",
              "      <td>0</td>\n",
              "      <td>0</td>\n",
              "      <td>0</td>\n",
              "      <td>0</td>\n",
              "      <td>0</td>\n",
              "      <td>0</td>\n",
              "      <td>0</td>\n",
              "      <td>19</td>\n",
              "      <td>...</td>\n",
              "      <td>0</td>\n",
              "      <td>0</td>\n",
              "      <td>0</td>\n",
              "      <td>0</td>\n",
              "      <td>0</td>\n",
              "      <td>0</td>\n",
              "      <td>0</td>\n",
              "      <td>0</td>\n",
              "      <td>0</td>\n",
              "      <td>39</td>\n",
              "    </tr>\n",
              "    <tr>\n",
              "      <th>232364</th>\n",
              "      <td>0</td>\n",
              "      <td>0</td>\n",
              "      <td>0</td>\n",
              "      <td>0</td>\n",
              "      <td>0</td>\n",
              "      <td>0</td>\n",
              "      <td>0</td>\n",
              "      <td>0</td>\n",
              "      <td>0</td>\n",
              "      <td>0</td>\n",
              "      <td>...</td>\n",
              "      <td>0</td>\n",
              "      <td>0</td>\n",
              "      <td>0</td>\n",
              "      <td>0</td>\n",
              "      <td>0</td>\n",
              "      <td>0</td>\n",
              "      <td>0</td>\n",
              "      <td>0</td>\n",
              "      <td>0</td>\n",
              "      <td>30</td>\n",
              "    </tr>\n",
              "  </tbody>\n",
              "</table>\n",
              "<p>232365 rows × 785 columns</p>\n",
              "</div>\n",
              "      <button class=\"colab-df-convert\" onclick=\"convertToInteractive('df-1751613a-0b8d-4947-883f-5c90e73c77dc')\"\n",
              "              title=\"Convert this dataframe to an interactive table.\"\n",
              "              style=\"display:none;\">\n",
              "        \n",
              "  <svg xmlns=\"http://www.w3.org/2000/svg\" height=\"24px\"viewBox=\"0 0 24 24\"\n",
              "       width=\"24px\">\n",
              "    <path d=\"M0 0h24v24H0V0z\" fill=\"none\"/>\n",
              "    <path d=\"M18.56 5.44l.94 2.06.94-2.06 2.06-.94-2.06-.94-.94-2.06-.94 2.06-2.06.94zm-11 1L8.5 8.5l.94-2.06 2.06-.94-2.06-.94L8.5 2.5l-.94 2.06-2.06.94zm10 10l.94 2.06.94-2.06 2.06-.94-2.06-.94-.94-2.06-.94 2.06-2.06.94z\"/><path d=\"M17.41 7.96l-1.37-1.37c-.4-.4-.92-.59-1.43-.59-.52 0-1.04.2-1.43.59L10.3 9.45l-7.72 7.72c-.78.78-.78 2.05 0 2.83L4 21.41c.39.39.9.59 1.41.59.51 0 1.02-.2 1.41-.59l7.78-7.78 2.81-2.81c.8-.78.8-2.07 0-2.86zM5.41 20L4 18.59l7.72-7.72 1.47 1.35L5.41 20z\"/>\n",
              "  </svg>\n",
              "      </button>\n",
              "      \n",
              "  <style>\n",
              "    .colab-df-container {\n",
              "      display:flex;\n",
              "      flex-wrap:wrap;\n",
              "      gap: 12px;\n",
              "    }\n",
              "\n",
              "    .colab-df-convert {\n",
              "      background-color: #E8F0FE;\n",
              "      border: none;\n",
              "      border-radius: 50%;\n",
              "      cursor: pointer;\n",
              "      display: none;\n",
              "      fill: #1967D2;\n",
              "      height: 32px;\n",
              "      padding: 0 0 0 0;\n",
              "      width: 32px;\n",
              "    }\n",
              "\n",
              "    .colab-df-convert:hover {\n",
              "      background-color: #E2EBFA;\n",
              "      box-shadow: 0px 1px 2px rgba(60, 64, 67, 0.3), 0px 1px 3px 1px rgba(60, 64, 67, 0.15);\n",
              "      fill: #174EA6;\n",
              "    }\n",
              "\n",
              "    [theme=dark] .colab-df-convert {\n",
              "      background-color: #3B4455;\n",
              "      fill: #D2E3FC;\n",
              "    }\n",
              "\n",
              "    [theme=dark] .colab-df-convert:hover {\n",
              "      background-color: #434B5C;\n",
              "      box-shadow: 0px 1px 3px 1px rgba(0, 0, 0, 0.15);\n",
              "      filter: drop-shadow(0px 1px 2px rgba(0, 0, 0, 0.3));\n",
              "      fill: #FFFFFF;\n",
              "    }\n",
              "  </style>\n",
              "\n",
              "      <script>\n",
              "        const buttonEl =\n",
              "          document.querySelector('#df-1751613a-0b8d-4947-883f-5c90e73c77dc button.colab-df-convert');\n",
              "        buttonEl.style.display =\n",
              "          google.colab.kernel.accessAllowed ? 'block' : 'none';\n",
              "\n",
              "        async function convertToInteractive(key) {\n",
              "          const element = document.querySelector('#df-1751613a-0b8d-4947-883f-5c90e73c77dc');\n",
              "          const dataTable =\n",
              "            await google.colab.kernel.invokeFunction('convertToInteractive',\n",
              "                                                     [key], {});\n",
              "          if (!dataTable) return;\n",
              "\n",
              "          const docLinkHtml = 'Like what you see? Visit the ' +\n",
              "            '<a target=\"_blank\" href=https://colab.research.google.com/notebooks/data_table.ipynb>data table notebook</a>'\n",
              "            + ' to learn more about interactive tables.';\n",
              "          element.innerHTML = '';\n",
              "          dataTable['output_type'] = 'display_data';\n",
              "          await google.colab.output.renderOutput(dataTable, element);\n",
              "          const docLink = document.createElement('div');\n",
              "          docLink.innerHTML = docLinkHtml;\n",
              "          element.appendChild(docLink);\n",
              "        }\n",
              "      </script>\n",
              "    </div>\n",
              "  </div>\n",
              "  "
            ]
          },
          "metadata": {},
          "execution_count": 116
        }
      ],
      "source": [
        "df_treino"
      ]
    },
    {
      "cell_type": "code",
      "execution_count": 117,
      "metadata": {
        "id": "mAJwotLI6wNn"
      },
      "outputs": [],
      "source": [
        "df_treino_balanceado = pd.DataFrame()\n",
        "for y in list(df_treino.y.unique()):\n",
        "    df_parcial = df_treino[df_treino.y==y].sample(n = balanceamento)\n",
        "    df_treino_balanceado = pd.concat([df_treino_balanceado, df_parcial])\n"
      ]
    },
    {
      "cell_type": "code",
      "execution_count": 118,
      "metadata": {
        "colab": {
          "base_uri": "https://localhost:8080/"
        },
        "id": "E1anQB9x6wNn",
        "outputId": "44852b3d-59e3-4d42-9cd7-78b6de61c105"
      },
      "outputs": [
        {
          "output_type": "execute_result",
          "data": {
            "text/plain": [
              "array([30, 30, 30, ..., 32, 32, 32], dtype=uint8)"
            ]
          },
          "metadata": {},
          "execution_count": 118
        }
      ],
      "source": [
        "y_train_balanceado = df_treino_balanceado.y.to_numpy()\n",
        "df_treino_balanceado.drop(columns=['y'], inplace = True)\n",
        "y_train_balanceado"
      ]
    },
    {
      "cell_type": "code",
      "execution_count": 119,
      "metadata": {
        "colab": {
          "base_uri": "https://localhost:8080/"
        },
        "id": "o3uEo3Sm6wNo",
        "outputId": "5b2555f2-10df-4aca-f7f0-d3aa637baf61"
      },
      "outputs": [
        {
          "output_type": "execute_result",
          "data": {
            "text/plain": [
              "(19208, 784)"
            ]
          },
          "metadata": {},
          "execution_count": 119
        }
      ],
      "source": [
        "x_train_balanceado = df_treino_balanceado.to_numpy() \n",
        "x_train_balanceado.shape"
      ]
    },
    {
      "cell_type": "markdown",
      "metadata": {
        "id": "tnwpPN6v6wNo"
      },
      "source": [
        "## Refazendo os modelos, para o dataset balanceado"
      ]
    },
    {
      "cell_type": "markdown",
      "metadata": {
        "id": "WceO7qA16wNp"
      },
      "source": [
        "### Dividindo entre treino e validação"
      ]
    },
    {
      "cell_type": "code",
      "execution_count": 132,
      "metadata": {
        "id": "nBZdE5aS6wNp"
      },
      "outputs": [],
      "source": [
        "x_treino,x_val, y_treino, y_val  = train_test_split(\n",
        "...     x_train_balanceado, y_train_balanceado, test_size=0.20)"
      ]
    },
    {
      "cell_type": "markdown",
      "metadata": {
        "id": "eQlYUCx26wNp"
      },
      "source": [
        "### Regressão Logística Multinomial"
      ]
    },
    {
      "cell_type": "code",
      "execution_count": 121,
      "metadata": {
        "id": "I1sIDHQB6wNp",
        "outputId": "61f2eda4-9f05-41a3-998b-d868ba6eef43",
        "colab": {
          "base_uri": "https://localhost:8080/"
        }
      },
      "outputs": [
        {
          "output_type": "execute_result",
          "data": {
            "text/plain": [
              "LogisticRegression(max_iter=1000, penalty='none')"
            ]
          },
          "metadata": {},
          "execution_count": 121
        }
      ],
      "source": [
        "#logreg = LogisticRegression(multi_class='multinomial', solver='lbfgs', max_iter=1000)\n",
        "logreg = LogisticRegression(penalty='none', max_iter=1000)\n",
        "# fit the model on the whole dataset\n",
        "logreg.fit(x_treino, y_treino)"
      ]
    },
    {
      "cell_type": "code",
      "execution_count": 122,
      "metadata": {
        "id": "OALviQFf6wNq",
        "outputId": "8ed9cfad-0b76-4bd2-91d9-daf624b26600",
        "colab": {
          "base_uri": "https://localhost:8080/"
        }
      },
      "outputs": [
        {
          "output_type": "execute_result",
          "data": {
            "text/plain": [
              "0.48047891723060904"
            ]
          },
          "metadata": {},
          "execution_count": 122
        }
      ],
      "source": [
        "## Acurácia, acertos geral, na amostrane validação\n",
        "logreg.score(x_val, y_val)"
      ]
    },
    {
      "cell_type": "markdown",
      "metadata": {
        "id": "2QCVGpgy6wNw"
      },
      "source": [
        "### Árvore de classificação:"
      ]
    },
    {
      "cell_type": "code",
      "execution_count": 123,
      "metadata": {
        "id": "69YGJWZO6wNw",
        "outputId": "d84c96a9-2ec2-439f-e093-72adcd48f33f",
        "colab": {
          "base_uri": "https://localhost:8080/"
        }
      },
      "outputs": [
        {
          "output_type": "execute_result",
          "data": {
            "text/plain": [
              "DecisionTreeClassifier()"
            ]
          },
          "metadata": {},
          "execution_count": 123
        }
      ],
      "source": [
        "arvore= tree.DecisionTreeClassifier()\n",
        "arvore.fit(x_treino, y_treino)"
      ]
    },
    {
      "cell_type": "code",
      "execution_count": 124,
      "metadata": {
        "id": "OBevMtWb6wNw",
        "outputId": "cfdaca4a-7ba4-44d7-8630-bc5b9ab38df4",
        "colab": {
          "base_uri": "https://localhost:8080/"
        }
      },
      "outputs": [
        {
          "output_type": "execute_result",
          "data": {
            "text/plain": [
              "0.42321707444039564"
            ]
          },
          "metadata": {},
          "execution_count": 124
        }
      ],
      "source": [
        "## Acurácia, acertos geral, na amostrane validação\n",
        "arvore.score(x_val, y_val)"
      ]
    },
    {
      "cell_type": "markdown",
      "metadata": {
        "id": "9c1eZdUj6wNx"
      },
      "source": [
        "### 4 Vizinhos Mais Próximos:"
      ]
    },
    {
      "cell_type": "code",
      "execution_count": 125,
      "metadata": {
        "id": "OZnJ7Btl6wNx",
        "outputId": "c9de3ce6-60b9-415b-82d6-f6d9079a1840",
        "colab": {
          "base_uri": "https://localhost:8080/"
        }
      },
      "outputs": [
        {
          "output_type": "stream",
          "name": "stdout",
          "text": [
            "Fitting KNeighborsClassifier(n_jobs=-1, n_neighbors=4, weights='distance')\n",
            "Evaluating KNeighborsClassifier(n_jobs=-1, n_neighbors=4, weights='distance')\n",
            "Test accuracy: 0.8011452368558043\n"
          ]
        }
      ],
      "source": [
        "clf = KNeighborsClassifier(n_neighbors=4, weights='distance', n_jobs=-1)\n",
        "print('Fitting', clf)\n",
        "clf.fit(x_treino, y_treino)\n",
        "print('Evaluating', clf)\n",
        "\n",
        "test_score = clf.score(x_val, y_val)\n",
        "print('Test accuracy:', test_score)"
      ]
    },
    {
      "cell_type": "markdown",
      "metadata": {
        "id": "e8pNYL9t6wNx"
      },
      "source": [
        "### 5 Vizinhos Mais Próximos:"
      ]
    },
    {
      "cell_type": "code",
      "execution_count": 126,
      "metadata": {
        "id": "yOJeQNun6wNx",
        "outputId": "3cfd6a58-ef10-443d-bbf9-fc1150d666b7",
        "colab": {
          "base_uri": "https://localhost:8080/"
        }
      },
      "outputs": [
        {
          "output_type": "stream",
          "name": "stdout",
          "text": [
            "Fitting KNeighborsClassifier(n_jobs=-1, weights='distance')\n",
            "Evaluating KNeighborsClassifier(n_jobs=-1, weights='distance')\n",
            "Test accuracy: 0.7938573659552316\n"
          ]
        }
      ],
      "source": [
        "clf = KNeighborsClassifier(n_neighbors=5, weights='distance', n_jobs=-1)\n",
        "print('Fitting', clf)\n",
        "clf.fit(x_treino, y_treino)\n",
        "print('Evaluating', clf)\n",
        "\n",
        "test_score = clf.score(x_val, y_val)\n",
        "print('Test accuracy:', test_score)"
      ]
    },
    {
      "cell_type": "markdown",
      "metadata": {
        "id": "38P-qoHj6wNy"
      },
      "source": [
        "### 3 Vizinhos Mais Próximos:"
      ]
    },
    {
      "cell_type": "code",
      "execution_count": 127,
      "metadata": {
        "id": "RvrhCsOM6wNy",
        "outputId": "5319e15a-0a84-4911-e86e-df6512db0ccf",
        "colab": {
          "base_uri": "https://localhost:8080/"
        }
      },
      "outputs": [
        {
          "output_type": "stream",
          "name": "stdout",
          "text": [
            "Fitting KNeighborsClassifier(n_jobs=-1, n_neighbors=3, weights='distance')\n",
            "Evaluating KNeighborsClassifier(n_jobs=-1, n_neighbors=3, weights='distance')\n",
            "Test accuracy: 0.7990629880270692\n"
          ]
        }
      ],
      "source": [
        "clf = KNeighborsClassifier(n_neighbors=3, weights='distance', n_jobs=-1)\n",
        "print('Fitting', clf)\n",
        "clf.fit(x_treino, y_treino)\n",
        "print('Evaluating', clf)\n",
        "\n",
        "test_score = clf.score(x_val, y_val)\n",
        "print('Test accuracy:', test_score)"
      ]
    },
    {
      "cell_type": "markdown",
      "metadata": {
        "id": "6hwhd4mL6wNy"
      },
      "source": [
        "### Floresta Aleatória:"
      ]
    },
    {
      "cell_type": "code",
      "execution_count": 128,
      "metadata": {
        "id": "cZMTw2l96wNz",
        "outputId": "a2e4b7e8-d293-4fce-c030-371d8a365909",
        "colab": {
          "base_uri": "https://localhost:8080/"
        }
      },
      "outputs": [
        {
          "output_type": "execute_result",
          "data": {
            "text/plain": [
              "0.7691306611140031"
            ]
          },
          "metadata": {},
          "execution_count": 128
        }
      ],
      "source": [
        "ra_fo = RandomForestClassifier(n_estimators=100)\n",
        "ra_fo.fit(x_treino, y_treino)\n",
        "ra_fo.score(x_val, y_val)"
      ]
    },
    {
      "cell_type": "markdown",
      "metadata": {
        "id": "v4Ir_u-86wNz"
      },
      "source": [
        "## Redes Neurais:"
      ]
    },
    {
      "cell_type": "code",
      "execution_count": 133,
      "metadata": {
        "id": "rAr8y_wG6wNz"
      },
      "outputs": [],
      "source": [
        "y_treino_catg = np_utils.to_categorical(y_treino)\n",
        "y_val_catg = np_utils.to_categorical(y_val)"
      ]
    },
    {
      "cell_type": "code",
      "execution_count": 134,
      "metadata": {
        "id": "7R-xA13a6wN0"
      },
      "outputs": [],
      "source": [
        "IMG_ROWS = 28\n",
        "IMG_COLS = 28\n",
        "\n",
        "NUM_CLASSES = 49\n",
        "NO_EPOCHS = 25\n",
        "BATCH_SIZE = 128"
      ]
    },
    {
      "cell_type": "code",
      "execution_count": 135,
      "metadata": {
        "id": "3dpdekJx6wN0"
      },
      "outputs": [],
      "source": [
        "num_images_train = x_treino.shape[0]\n",
        "x_shaped_treino = x_treino.reshape(num_images_train, IMG_ROWS, IMG_COLS, 1)\n",
        "\n",
        "num_images_val = x_val.shape[0]\n",
        "x_shaped_val = x_val.reshape(num_images_val, IMG_ROWS, IMG_COLS, 1)"
      ]
    },
    {
      "cell_type": "code",
      "execution_count": 136,
      "metadata": {
        "id": "CTufPXIe6wN0",
        "outputId": "120b5b5d-6a2a-461d-a555-3ca9ae8faed7",
        "colab": {
          "base_uri": "https://localhost:8080/"
        }
      },
      "outputs": [
        {
          "output_type": "stream",
          "name": "stdout",
          "text": [
            "Model: \"sequential_11\"\n",
            "_________________________________________________________________\n",
            "Layer (type)                 Output Shape              Param #   \n",
            "=================================================================\n",
            "conv2d_31 (Conv2D)           (None, 28, 28, 32)        320       \n",
            "_________________________________________________________________\n",
            "batch_normalization_30 (Batc (None, 28, 28, 32)        128       \n",
            "_________________________________________________________________\n",
            "conv2d_32 (Conv2D)           (None, 26, 26, 32)        9248      \n",
            "_________________________________________________________________\n",
            "batch_normalization_31 (Batc (None, 26, 26, 32)        128       \n",
            "_________________________________________________________________\n",
            "conv2d_33 (Conv2D)           (None, 13, 13, 32)        25632     \n",
            "_________________________________________________________________\n",
            "max_pooling2d_10 (MaxPooling (None, 6, 6, 32)          0         \n",
            "_________________________________________________________________\n",
            "batch_normalization_32 (Batc (None, 6, 6, 32)          128       \n",
            "_________________________________________________________________\n",
            "dropout_20 (Dropout)         (None, 6, 6, 32)          0         \n",
            "_________________________________________________________________\n",
            "flatten_10 (Flatten)         (None, 1152)              0         \n",
            "_________________________________________________________________\n",
            "dense_20 (Dense)             (None, 128)               147584    \n",
            "_________________________________________________________________\n",
            "dropout_21 (Dropout)         (None, 128)               0         \n",
            "_________________________________________________________________\n",
            "dense_21 (Dense)             (None, 49)                6321      \n",
            "=================================================================\n",
            "Total params: 189,489\n",
            "Trainable params: 189,297\n",
            "Non-trainable params: 192\n",
            "_________________________________________________________________\n",
            "Train on 15366 samples, validate on 3842 samples\n",
            "Epoch 1/25\n",
            "15366/15366 [==============================] - 2s 138us/sample - loss: 2.7211 - acc: 0.3348 - val_loss: 1.4303 - val_acc: 0.6421\n",
            "Epoch 2/25\n",
            "15366/15366 [==============================] - 1s 95us/sample - loss: 1.4805 - acc: 0.6113 - val_loss: 0.8583 - val_acc: 0.7707\n",
            "Epoch 3/25\n",
            "15366/15366 [==============================] - 1s 93us/sample - loss: 1.1332 - acc: 0.6954 - val_loss: 0.6857 - val_acc: 0.8116\n",
            "Epoch 4/25\n",
            "15366/15366 [==============================] - 1s 95us/sample - loss: 0.9378 - acc: 0.7480 - val_loss: 0.5863 - val_acc: 0.8378\n",
            "Epoch 5/25\n",
            "15366/15366 [==============================] - 1s 93us/sample - loss: 0.8284 - acc: 0.7707 - val_loss: 0.5273 - val_acc: 0.8574\n",
            "Epoch 6/25\n",
            "15366/15366 [==============================] - 1s 93us/sample - loss: 0.7495 - acc: 0.7923 - val_loss: 0.4909 - val_acc: 0.8628\n",
            "Epoch 7/25\n",
            "15366/15366 [==============================] - 1s 95us/sample - loss: 0.6673 - acc: 0.8135 - val_loss: 0.4635 - val_acc: 0.8706\n",
            "Epoch 8/25\n",
            "15366/15366 [==============================] - 1s 95us/sample - loss: 0.6536 - acc: 0.8178 - val_loss: 0.4336 - val_acc: 0.8813\n",
            "Epoch 9/25\n",
            "15366/15366 [==============================] - 1s 96us/sample - loss: 0.5924 - acc: 0.8327 - val_loss: 0.4170 - val_acc: 0.8824\n",
            "Epoch 10/25\n",
            "15366/15366 [==============================] - 1s 95us/sample - loss: 0.5600 - acc: 0.8349 - val_loss: 0.3997 - val_acc: 0.8868\n",
            "Epoch 11/25\n",
            "15366/15366 [==============================] - 2s 106us/sample - loss: 0.5307 - acc: 0.8474 - val_loss: 0.3836 - val_acc: 0.8959\n",
            "Epoch 12/25\n",
            "15366/15366 [==============================] - 2s 105us/sample - loss: 0.4950 - acc: 0.8569 - val_loss: 0.3624 - val_acc: 0.8972\n",
            "Epoch 13/25\n",
            "15366/15366 [==============================] - 1s 94us/sample - loss: 0.4550 - acc: 0.8643 - val_loss: 0.3525 - val_acc: 0.8988\n",
            "Epoch 14/25\n",
            "15366/15366 [==============================] - 2s 131us/sample - loss: 0.4518 - acc: 0.8681 - val_loss: 0.3515 - val_acc: 0.8985\n",
            "Epoch 15/25\n",
            "15366/15366 [==============================] - 2s 121us/sample - loss: 0.4143 - acc: 0.8763 - val_loss: 0.3381 - val_acc: 0.9063\n",
            "Epoch 16/25\n",
            "15366/15366 [==============================] - 1s 93us/sample - loss: 0.3933 - acc: 0.8797 - val_loss: 0.3355 - val_acc: 0.9042\n",
            "Epoch 17/25\n",
            "15366/15366 [==============================] - 1s 94us/sample - loss: 0.3877 - acc: 0.8814 - val_loss: 0.3282 - val_acc: 0.9063\n",
            "Epoch 18/25\n",
            "15366/15366 [==============================] - 1s 93us/sample - loss: 0.3694 - acc: 0.8878 - val_loss: 0.3318 - val_acc: 0.9068\n",
            "Epoch 19/25\n",
            "15366/15366 [==============================] - 1s 95us/sample - loss: 0.3646 - acc: 0.8885 - val_loss: 0.3261 - val_acc: 0.9092\n",
            "Epoch 20/25\n",
            "15366/15366 [==============================] - 1s 93us/sample - loss: 0.3357 - acc: 0.8946 - val_loss: 0.3234 - val_acc: 0.9125\n",
            "Epoch 21/25\n",
            "15366/15366 [==============================] - 1s 93us/sample - loss: 0.3209 - acc: 0.8992 - val_loss: 0.3151 - val_acc: 0.9157\n",
            "Epoch 22/25\n",
            "15366/15366 [==============================] - 1s 94us/sample - loss: 0.3423 - acc: 0.8935 - val_loss: 0.3115 - val_acc: 0.9144\n",
            "Epoch 23/25\n",
            "15366/15366 [==============================] - 1s 92us/sample - loss: 0.3235 - acc: 0.9000 - val_loss: 0.3070 - val_acc: 0.9172\n",
            "Epoch 24/25\n",
            "15366/15366 [==============================] - 1s 94us/sample - loss: 0.3080 - acc: 0.9049 - val_loss: 0.3079 - val_acc: 0.9146\n",
            "Epoch 25/25\n",
            "15366/15366 [==============================] - 1s 93us/sample - loss: 0.3055 - acc: 0.9045 - val_loss: 0.3066 - val_acc: 0.9198\n"
          ]
        }
      ],
      "source": [
        "# Model\n",
        "model = Sequential()\n",
        "# Add convolution 2D\n",
        "model.add(Conv2D(32, kernel_size=(3, 3),activation='relu', padding=\"same\",\n",
        "        kernel_initializer='he_normal',input_shape=(IMG_ROWS, IMG_COLS, 1)))\n",
        "\n",
        "model.add(BatchNormalization())\n",
        "\n",
        "model.add(Conv2D(32,kernel_size=(3, 3), activation='relu'))\n",
        "model.add(BatchNormalization())\n",
        "model.add(Conv2D(32,kernel_size=5,strides=2,padding='same',activation='relu'))\n",
        "model.add(MaxPooling2D((2, 2)))\n",
        "model.add(BatchNormalization())\n",
        "model.add(Dropout(0.4))\n",
        "# model.add(Conv2D(64, kernel_size=(3, 3), strides=2,padding='same', activation='relu'))\n",
        "# model.add(MaxPooling2D(pool_size=(2, 2)))\n",
        "# model.add(BatchNormalization())\n",
        "# model.add(Conv2D(64, kernel_size=(3, 3), strides=2,padding='same', activation='relu'))\n",
        "# model.add(Dropout(0.4))\n",
        "model.add(Flatten())\n",
        "model.add(Dense(128, activation='relu'))\n",
        "model.add(Dropout(0.4))\n",
        "model.add(Dense(NUM_CLASSES, activation='softmax'))\n",
        "\n",
        "# Compile the model\n",
        "model.compile(loss = \"categorical_crossentropy\", optimizer=\"adam\", metrics=[\"accuracy\"])\n",
        "\n",
        "model.summary()\n",
        "\n",
        "history = model.fit(x_shaped_treino, y_treino_catg,\n",
        "          batch_size=BATCH_SIZE,\n",
        "          epochs=NO_EPOCHS,\n",
        "          verbose=1,\n",
        "          validation_data=(x_shaped_val, y_val_catg))\n",
        "\n",
        "\n"
      ]
    },
    {
      "cell_type": "code",
      "execution_count": 137,
      "metadata": {
        "id": "XWQaDU_C6wN1",
        "outputId": "262624e1-75fa-48dc-bac7-513d34357fe1",
        "colab": {
          "base_uri": "https://localhost:8080/"
        }
      },
      "outputs": [
        {
          "output_type": "execute_result",
          "data": {
            "text/plain": [
              "array([0.91983342])"
            ]
          },
          "metadata": {},
          "execution_count": 137
        }
      ],
      "source": [
        "\n",
        "#get the predictions for the test data\n",
        "predicted_classes = model.predict_classes(x_shaped_val)\n",
        "#get the indices to be plotted\n",
        "y_true = np.argmax(y_val_catg,axis=1)\n",
        "\n",
        "((y_true==predicted_classes).sum())/ y_true.shape"
      ]
    },
    {
      "cell_type": "markdown",
      "source": [
        "### Redes neurais no teste"
      ],
      "metadata": {
        "id": "ra6fWmji9ZGz"
      }
    },
    {
      "cell_type": "code",
      "source": [
        "y_train_balanceado_catg = np_utils.to_categorical(y_train_balanceado)\n",
        "\n",
        "num_images_train_balanceado = x_train_balanceado.shape[0]\n",
        "x_shaped_train_balanceado = x_train_balanceado.reshape(num_images_train_balanceado, IMG_ROWS, IMG_COLS, 1)"
      ],
      "metadata": {
        "id": "l8qQLIUJ9Fgc"
      },
      "execution_count": 138,
      "outputs": []
    },
    {
      "cell_type": "code",
      "source": [
        "# Model\n",
        "model = Sequential()\n",
        "# Add convolution 2D\n",
        "model.add(Conv2D(32, kernel_size=(3, 3),activation='relu', padding=\"same\",\n",
        "        kernel_initializer='he_normal',input_shape=(IMG_ROWS, IMG_COLS, 1)))\n",
        "\n",
        "model.add(BatchNormalization())\n",
        "\n",
        "model.add(Conv2D(32,kernel_size=(3, 3), activation='relu'))\n",
        "model.add(BatchNormalization())\n",
        "model.add(Conv2D(32,kernel_size=5,strides=2,padding='same',activation='relu'))\n",
        "model.add(MaxPooling2D((2, 2)))\n",
        "model.add(BatchNormalization())\n",
        "model.add(Dropout(0.4))\n",
        "model.add(Flatten())\n",
        "model.add(Dense(128, activation='relu'))\n",
        "model.add(Dropout(0.4))\n",
        "model.add(Dense(NUM_CLASSES, activation='softmax'))"
      ],
      "metadata": {
        "id": "zscrQdyf9Fp4"
      },
      "execution_count": 139,
      "outputs": []
    },
    {
      "cell_type": "code",
      "source": [
        "# Compile the model\n",
        "model.compile(loss = \"categorical_crossentropy\", optimizer=\"adam\", metrics=[\"accuracy\"])"
      ],
      "metadata": {
        "id": "_iVTCYiM9Fvv"
      },
      "execution_count": 140,
      "outputs": []
    },
    {
      "cell_type": "code",
      "source": [
        "\n",
        "model.summary()\n",
        "\n",
        "history = model.fit(x_shaped_train_balanceado, y_train_balanceado_catg,\n",
        "          batch_size=BATCH_SIZE,\n",
        "          epochs=NO_EPOCHS,\n",
        "          verbose=1)"
      ],
      "metadata": {
        "colab": {
          "base_uri": "https://localhost:8080/"
        },
        "id": "WMCAbioM9-C-",
        "outputId": "9420405e-3083-4ed8-ebb1-b6445100b820"
      },
      "execution_count": 141,
      "outputs": [
        {
          "output_type": "stream",
          "name": "stdout",
          "text": [
            "Model: \"sequential_12\"\n",
            "_________________________________________________________________\n",
            "Layer (type)                 Output Shape              Param #   \n",
            "=================================================================\n",
            "conv2d_34 (Conv2D)           (None, 28, 28, 32)        320       \n",
            "_________________________________________________________________\n",
            "batch_normalization_33 (Batc (None, 28, 28, 32)        128       \n",
            "_________________________________________________________________\n",
            "conv2d_35 (Conv2D)           (None, 26, 26, 32)        9248      \n",
            "_________________________________________________________________\n",
            "batch_normalization_34 (Batc (None, 26, 26, 32)        128       \n",
            "_________________________________________________________________\n",
            "conv2d_36 (Conv2D)           (None, 13, 13, 32)        25632     \n",
            "_________________________________________________________________\n",
            "max_pooling2d_11 (MaxPooling (None, 6, 6, 32)          0         \n",
            "_________________________________________________________________\n",
            "batch_normalization_35 (Batc (None, 6, 6, 32)          128       \n",
            "_________________________________________________________________\n",
            "dropout_22 (Dropout)         (None, 6, 6, 32)          0         \n",
            "_________________________________________________________________\n",
            "flatten_11 (Flatten)         (None, 1152)              0         \n",
            "_________________________________________________________________\n",
            "dense_22 (Dense)             (None, 128)               147584    \n",
            "_________________________________________________________________\n",
            "dropout_23 (Dropout)         (None, 128)               0         \n",
            "_________________________________________________________________\n",
            "dense_23 (Dense)             (None, 49)                6321      \n",
            "=================================================================\n",
            "Total params: 189,489\n",
            "Trainable params: 189,297\n",
            "Non-trainable params: 192\n",
            "_________________________________________________________________\n",
            "Train on 19208 samples\n",
            "Epoch 1/25\n",
            "19208/19208 [==============================] - 2s 109us/sample - loss: 2.5065 - acc: 0.3882\n",
            "Epoch 2/25\n",
            "19208/19208 [==============================] - 2s 89us/sample - loss: 1.3273 - acc: 0.6493\n",
            "Epoch 3/25\n",
            "19208/19208 [==============================] - 2s 89us/sample - loss: 1.0101 - acc: 0.7272\n",
            "Epoch 4/25\n",
            "19208/19208 [==============================] - 2s 88us/sample - loss: 0.8483 - acc: 0.7688\n",
            "Epoch 5/25\n",
            "19208/19208 [==============================] - 2s 89us/sample - loss: 0.7522 - acc: 0.7937\n",
            "Epoch 6/25\n",
            "19208/19208 [==============================] - 2s 88us/sample - loss: 0.6572 - acc: 0.8177\n",
            "Epoch 7/25\n",
            "19208/19208 [==============================] - 2s 87us/sample - loss: 0.6014 - acc: 0.8298\n",
            "Epoch 8/25\n",
            "19208/19208 [==============================] - 2s 89us/sample - loss: 0.5413 - acc: 0.8433\n",
            "Epoch 9/25\n",
            "19208/19208 [==============================] - 2s 88us/sample - loss: 0.5225 - acc: 0.8504\n",
            "Epoch 10/25\n",
            "19208/19208 [==============================] - 2s 87us/sample - loss: 0.4919 - acc: 0.8556\n",
            "Epoch 11/25\n",
            "19208/19208 [==============================] - 2s 88us/sample - loss: 0.4585 - acc: 0.8651\n",
            "Epoch 12/25\n",
            "19208/19208 [==============================] - 2s 89us/sample - loss: 0.4359 - acc: 0.8716\n",
            "Epoch 13/25\n",
            "19208/19208 [==============================] - 2s 89us/sample - loss: 0.4041 - acc: 0.8812\n",
            "Epoch 14/25\n",
            "19208/19208 [==============================] - 2s 89us/sample - loss: 0.3866 - acc: 0.8845\n",
            "Epoch 15/25\n",
            "19208/19208 [==============================] - 2s 88us/sample - loss: 0.3733 - acc: 0.8871\n",
            "Epoch 16/25\n",
            "19208/19208 [==============================] - 2s 89us/sample - loss: 0.3547 - acc: 0.8901\n",
            "Epoch 17/25\n",
            "19208/19208 [==============================] - 2s 88us/sample - loss: 0.3499 - acc: 0.8918\n",
            "Epoch 18/25\n",
            "19208/19208 [==============================] - 2s 89us/sample - loss: 0.3365 - acc: 0.8957\n",
            "Epoch 19/25\n",
            "19208/19208 [==============================] - 2s 87us/sample - loss: 0.3192 - acc: 0.8994\n",
            "Epoch 20/25\n",
            "19208/19208 [==============================] - 2s 89us/sample - loss: 0.3200 - acc: 0.9001\n",
            "Epoch 21/25\n",
            "19208/19208 [==============================] - 2s 88us/sample - loss: 0.3051 - acc: 0.9051\n",
            "Epoch 22/25\n",
            "19208/19208 [==============================] - 2s 88us/sample - loss: 0.2923 - acc: 0.9089\n",
            "Epoch 23/25\n",
            "19208/19208 [==============================] - 2s 104us/sample - loss: 0.2864 - acc: 0.9114\n",
            "Epoch 24/25\n",
            "19208/19208 [==============================] - 2s 89us/sample - loss: 0.2860 - acc: 0.9102\n",
            "Epoch 25/25\n",
            "19208/19208 [==============================] - 2s 88us/sample - loss: 0.2801 - acc: 0.9089\n"
          ]
        }
      ]
    },
    {
      "cell_type": "code",
      "source": [
        "#get the predictions for the test data\n",
        "predicted_classes = model.predict_classes(x_shaped_test)\n",
        "#get the indices to be plotted\n",
        "y_true = np.argmax(y_test_catg,axis=1)\n",
        "\n",
        "((y_true==predicted_classes).sum())/ y_true.shape\n",
        "#.sum())/ y_true.shape"
      ],
      "metadata": {
        "colab": {
          "base_uri": "https://localhost:8080/"
        },
        "id": "3Z-1rVsz998R",
        "outputId": "d83e2fb5-8a7a-414e-a602-a8507cc067db"
      },
      "execution_count": 142,
      "outputs": [
        {
          "output_type": "execute_result",
          "data": {
            "text/plain": [
              "array([0.84668068])"
            ]
          },
          "metadata": {},
          "execution_count": 142
        }
      ]
    },
    {
      "cell_type": "code",
      "source": [
        "## Matrix de confusão:\n",
        "retorno = classification_report(y_true, predicted_classes)\n",
        "print(retorno)"
      ],
      "metadata": {
        "colab": {
          "base_uri": "https://localhost:8080/"
        },
        "id": "YVmpX_jG99zt",
        "outputId": "5bf48c00-e00e-467e-ddec-71b6348fc548"
      },
      "execution_count": 143,
      "outputs": [
        {
          "output_type": "stream",
          "name": "stdout",
          "text": [
            "              precision    recall  f1-score   support\n",
            "\n",
            "           0       0.82      0.90      0.86      1000\n",
            "           1       0.97      0.92      0.94      1000\n",
            "           2       0.86      0.93      0.89      1000\n",
            "           3       0.49      0.96      0.65       126\n",
            "           4       0.83      0.88      0.85      1000\n",
            "           5       0.88      0.81      0.84      1000\n",
            "           6       0.84      0.85      0.84      1000\n",
            "           7       0.89      0.88      0.89      1000\n",
            "           8       0.68      0.83      0.75       767\n",
            "           9       0.85      0.85      0.85      1000\n",
            "          10       0.92      0.78      0.85      1000\n",
            "          11       0.92      0.80      0.86      1000\n",
            "          12       0.84      0.78      0.81      1000\n",
            "          13       0.84      0.70      0.76       678\n",
            "          14       0.77      0.77      0.77       629\n",
            "          15       0.91      0.82      0.86      1000\n",
            "          16       0.89      0.95      0.92       418\n",
            "          17       0.82      0.93      0.87      1000\n",
            "          18       0.93      0.86      0.89      1000\n",
            "          19       0.89      0.83      0.86      1000\n",
            "          20       0.81      0.73      0.77      1000\n",
            "          21       0.89      0.83      0.86      1000\n",
            "          22       0.71      0.85      0.77       336\n",
            "          23       0.67      0.90      0.77       399\n",
            "          24       0.89      0.88      0.89      1000\n",
            "          25       0.97      0.75      0.85      1000\n",
            "          26       0.92      0.85      0.88       836\n",
            "          27       0.88      0.83      0.86      1000\n",
            "          28       0.97      0.81      0.88      1000\n",
            "          29       0.65      0.91      0.76       324\n",
            "          30       0.73      0.87      0.80      1000\n",
            "          31       0.90      0.83      0.86       498\n",
            "          32       0.79      0.86      0.82       280\n",
            "          33       0.82      0.93      0.87       552\n",
            "          34       0.88      0.89      0.89      1000\n",
            "          35       0.87      0.68      0.76      1000\n",
            "          36       0.72      0.92      0.81       260\n",
            "          37       0.93      0.96      0.95      1000\n",
            "          38       0.87      0.88      0.88      1000\n",
            "          39       0.86      0.78      0.82      1000\n",
            "          40       0.79      0.78      0.78      1000\n",
            "          41       0.81      0.85      0.83      1000\n",
            "          42       0.76      0.95      0.84       348\n",
            "          43       0.86      0.88      0.87       390\n",
            "          44       0.62      0.75      0.68        68\n",
            "          45       0.19      0.92      0.32        64\n",
            "          46       0.87      0.88      0.87      1000\n",
            "          47       0.97      0.98      0.97      1000\n",
            "          48       0.80      0.84      0.82       574\n",
            "\n",
            "    accuracy                           0.85     38547\n",
            "   macro avg       0.82      0.85      0.83     38547\n",
            "weighted avg       0.86      0.85      0.85     38547\n",
            "\n"
          ]
        }
      ]
    }
  ],
  "metadata": {
    "accelerator": "GPU",
    "colab": {
      "name": "mac0460-projeto.ipynb",
      "provenance": []
    },
    "gpuClass": "standard",
    "kernelspec": {
      "display_name": "Python 3",
      "language": "python",
      "name": "python3"
    },
    "language_info": {
      "codemirror_mode": {
        "name": "ipython",
        "version": 3
      },
      "file_extension": ".py",
      "mimetype": "text/x-python",
      "name": "python",
      "nbconvert_exporter": "python",
      "pygments_lexer": "ipython3",
      "version": "3.8.5"
    }
  },
  "nbformat": 4,
  "nbformat_minor": 0
}