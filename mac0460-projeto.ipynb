{
 "cells": [
  {
   "cell_type": "markdown",
   "metadata": {},
   "source": [
    "### Importando bibliotecas"
   ]
  },
  {
   "cell_type": "code",
   "execution_count": 1,
   "metadata": {},
   "outputs": [],
   "source": [
    "import numpy as np\n",
    "import pandas as pd\n",
    "from sklearn.neighbors import KNeighborsClassifier\n",
    "from sklearn.model_selection import cross_val_score,StratifiedKFold\n",
    "from sklearn.linear_model import LogisticRegression\n",
    "from sklearn.metrics import accuracy_score\n",
    "from sklearn.model_selection import train_test_split\n",
    "from sklearn import preprocessing\n",
    "from sklearn import tree\n",
    "from sklearn.naive_bayes import MultinomialNB\n",
    "from sklearn.decomposition import PCA\n",
    "from sklearn.ensemble import RandomForestClassifier\n",
    "from sklearn.metrics import classification_report\n",
    "from tensorflow.python import keras\n",
    "from tensorflow.python.keras.models import Sequential\n",
    "from tensorflow.python.keras.layers import Dense, Flatten, Conv2D, Dropout, MaxPooling2D, BatchNormalization\n",
    "from IPython.display import SVG\n",
    "from keras.utils.vis_utils import model_to_dot\n",
    "from keras.utils import plot_model\n",
    "import seaborn as sns\n",
    "import matplotlib.pyplot as plt\n",
    "from tqdm import tqdm_notebook\n",
    "from keras.utils import np_utils"
   ]
  },
  {
   "cell_type": "markdown",
   "metadata": {},
   "source": [
    "### Lendo os dados de treino: ----"
   ]
  },
  {
   "cell_type": "code",
   "execution_count": 2,
   "metadata": {},
   "outputs": [],
   "source": [
    "def load(f):\n",
    "    return np.load(f)['arr_0']\n",
    "\n",
    "x_train = load('k49-train-imgs.npz')\n",
    "y_train = load('k49-train-labels.npz')\n",
    "\n",
    "# Flatten images\n",
    "x_train = x_train.reshape(-1, 784)\n",
    "\n",
    "#scaler = preprocessing.StandardScaler().fit(x_train)\n"
   ]
  },
  {
   "cell_type": "markdown",
   "metadata": {},
   "source": [
    "### Quantas observações por classe:"
   ]
  },
  {
   "cell_type": "code",
   "execution_count": 3,
   "metadata": {},
   "outputs": [],
   "source": [
    "observacoes_por_classe = pd.Series(y_train).astype(int).value_counts()"
   ]
  },
  {
   "cell_type": "code",
   "execution_count": 4,
   "metadata": {},
   "outputs": [
    {
     "data": {
      "text/plain": [
       "45     392\n",
       "44     417\n",
       "3      777\n",
       "36    1598\n",
       "32    1718\n",
       "29    1993\n",
       "22    2063\n",
       "42    2139\n",
       "43    2397\n",
       "23    2451\n",
       "16    2565\n",
       "31    3060\n",
       "33    3394\n",
       "48    3523\n",
       "14    3867\n",
       "13    4165\n",
       "8     4714\n",
       "26    5132\n",
       "37    6000\n",
       "35    6000\n",
       "34    6000\n",
       "38    6000\n",
       "39    6000\n",
       "40    6000\n",
       "24    6000\n",
       "46    6000\n",
       "27    6000\n",
       "47    6000\n",
       "21    6000\n",
       "20    6000\n",
       "19    6000\n",
       "18    6000\n",
       "17    6000\n",
       "15    6000\n",
       "12    6000\n",
       "11    6000\n",
       "10    6000\n",
       "9     6000\n",
       "7     6000\n",
       "6     6000\n",
       "5     6000\n",
       "4     6000\n",
       "2     6000\n",
       "1     6000\n",
       "25    6000\n",
       "0     6000\n",
       "28    6000\n",
       "30    6000\n",
       "41    6000\n",
       "dtype: int64"
      ]
     },
     "execution_count": 4,
     "metadata": {},
     "output_type": "execute_result"
    }
   ],
   "source": [
    "observacoes_por_classe.sort_values(ascending=True)  ##classe com o menor número de observações"
   ]
  },
  {
   "cell_type": "code",
   "execution_count": 5,
   "metadata": {
    "scrolled": true
   },
   "outputs": [
    {
     "data": {
      "text/plain": [
       "<AxesSubplot:>"
      ]
     },
     "execution_count": 5,
     "metadata": {},
     "output_type": "execute_result"
    },
    {
     "data": {
      "image/png": "[encoded data removed]",
      "text/plain": [
       "<Figure size 1080x720 with 1 Axes>"
      ]
     },
     "metadata": {
      "needs_background": "light"
     },
     "output_type": "display_data"
    }
   ],
   "source": [
    "observacoes_por_classe.sort_index().plot.bar(figsize=(15, 10))"
   ]
  },
  {
   "cell_type": "markdown",
   "metadata": {},
   "source": [
    "### APLICANDO PCA:"
   ]
  },
  {
   "cell_type": "code",
   "execution_count": 6,
   "metadata": {},
   "outputs": [],
   "source": [
    "# Flatten images\n",
    "# x_train = x_train.reshape(-1, 784)\n",
    "\n",
    "# x_train.shape"
   ]
  },
  {
   "cell_type": "code",
   "execution_count": 7,
   "metadata": {},
   "outputs": [],
   "source": [
    "# 2. Decomponha a matriz de variâncias e covariâncias em componentes principais.\n",
    "# X = np.matrix(x_train)\n",
    "# S = np.cov(np.transpose(X))"
   ]
  },
  {
   "cell_type": "code",
   "execution_count": 8,
   "metadata": {},
   "outputs": [],
   "source": [
    "# variâncias\n",
    "# np.diagonal(S)\n",
    "\n"
   ]
  },
  {
   "cell_type": "code",
   "execution_count": 9,
   "metadata": {},
   "outputs": [],
   "source": [
    "\n",
    "# Z-score the features (usando correlação)\n",
    "# scaler = preprocessing.StandardScaler()\n",
    "# scaler.fit(X)\n",
    "# X = scaler.transform(X)\n",
    "\n",
    "# pca = PCA(n_components=784)\n",
    "\n",
    "# pca.fit(X)"
   ]
  },
  {
   "cell_type": "code",
   "execution_count": 10,
   "metadata": {},
   "outputs": [],
   "source": [
    "# np.round(pca.explained_variance_ratio_,4)"
   ]
  },
  {
   "cell_type": "code",
   "execution_count": 11,
   "metadata": {},
   "outputs": [],
   "source": [
    "# variancia_explicada = pca.explained_variance_ratio_.cumsum()\n",
    "# len(variancia_explicada[variancia_explicada<=0.90])"
   ]
  },
  {
   "cell_type": "markdown",
   "metadata": {},
   "source": [
    "para ter 90 da variância explicada, só precisa da 163 primeiras componentes"
   ]
  },
  {
   "cell_type": "code",
   "execution_count": 12,
   "metadata": {},
   "outputs": [],
   "source": [
    "# principalDf =  pca.fit_transform(X)[:, :169]"
   ]
  },
  {
   "cell_type": "markdown",
   "metadata": {},
   "source": [
    "### Dividindo entre treino e validação"
   ]
  },
  {
   "cell_type": "code",
   "execution_count": 13,
   "metadata": {},
   "outputs": [],
   "source": [
    "x_treino,x_val, y_treino, y_val  = train_test_split(\n",
    "...     x_train, y_train, test_size=0.20)"
   ]
  },
  {
   "cell_type": "markdown",
   "metadata": {},
   "source": [
    "### Regressão Logística Multinomial"
   ]
  },
  {
   "cell_type": "code",
   "execution_count": 14,
   "metadata": {},
   "outputs": [
    {
     "name": "stderr",
     "output_type": "stream",
     "text": [
      "C:\\Users\\karin\\anaconda3\\lib\\site-packages\\sklearn\\linear_model\\_logistic.py:762: ConvergenceWarning: lbfgs failed to converge (status=1):\n",
      "STOP: TOTAL NO. of ITERATIONS REACHED LIMIT.\n",
      "\n",
      "Increase the number of iterations (max_iter) or scale the data as shown in:\n",
      "    https://scikit-learn.org/stable/modules/preprocessing.html\n",
      "Please also refer to the documentation for alternative solver options:\n",
      "    https://scikit-learn.org/stable/modules/linear_model.html#logistic-regression\n",
      "  n_iter_i = _check_optimize_result(\n"
     ]
    },
    {
     "data": {
      "text/plain": [
       "LogisticRegression(max_iter=1000, multi_class='multinomial')"
      ]
     },
     "execution_count": 14,
     "metadata": {},
     "output_type": "execute_result"
    }
   ],
   "source": [
    "logreg = LogisticRegression(multi_class='multinomial', solver='lbfgs', max_iter=1000)\n",
    "#logreg = LogisticRegression(penalty='none', max_iter=500)\n",
    "# fit the model on the whole dataset\n",
    "logreg.fit(x_treino, y_treino)"
   ]
  },
  {
   "cell_type": "code",
   "execution_count": 15,
   "metadata": {},
   "outputs": [
    {
     "data": {
      "text/plain": [
       "0.6718524734792245"
      ]
     },
     "execution_count": 15,
     "metadata": {},
     "output_type": "execute_result"
    }
   ],
   "source": [
    "## Acurácia, acertos geral, na amostrane validação\n",
    "logreg.score(x_val, y_val)"
   ]
  },
  {
   "cell_type": "markdown",
   "metadata": {},
   "source": [
    "### Árvore de classificação:"
   ]
  },
  {
   "cell_type": "code",
   "execution_count": 16,
   "metadata": {},
   "outputs": [
    {
     "data": {
      "text/plain": [
       "DecisionTreeClassifier()"
      ]
     },
     "execution_count": 16,
     "metadata": {},
     "output_type": "execute_result"
    }
   ],
   "source": [
    "arvore= tree.DecisionTreeClassifier()\n",
    "arvore.fit(x_treino, y_treino)"
   ]
  },
  {
   "cell_type": "code",
   "execution_count": 17,
   "metadata": {},
   "outputs": [
    {
     "data": {
      "text/plain": [
       "0.6001334107976675"
      ]
     },
     "execution_count": 17,
     "metadata": {},
     "output_type": "execute_result"
    }
   ],
   "source": [
    "## Acurácia, acertos geral, na amostrane validação\n",
    "arvore.score(x_val, y_val)"
   ]
  },
  {
   "cell_type": "markdown",
   "metadata": {},
   "source": [
    "### 4 Vizinhos Mais Próximos:"
   ]
  },
  {
   "cell_type": "code",
   "execution_count": 18,
   "metadata": {},
   "outputs": [
    {
     "name": "stdout",
     "output_type": "stream",
     "text": [
      "Fitting KNeighborsClassifier(n_jobs=-1, n_neighbors=4, weights='distance')\n",
      "Evaluating KNeighborsClassifier(n_jobs=-1, n_neighbors=4, weights='distance')\n",
      "Test accuracy: 0.9067845845975082\n"
     ]
    }
   ],
   "source": [
    "clf = KNeighborsClassifier(n_neighbors=4, weights='distance', n_jobs=-1)\n",
    "print('Fitting', clf)\n",
    "clf.fit(x_treino, y_treino)\n",
    "print('Evaluating', clf)\n",
    "\n",
    "test_score = clf.score(x_val, y_val)\n",
    "print('Test accuracy:', test_score)"
   ]
  },
  {
   "cell_type": "markdown",
   "metadata": {},
   "source": [
    "### 5 Vizinhos Mais Próximos:"
   ]
  },
  {
   "cell_type": "code",
   "execution_count": 19,
   "metadata": {},
   "outputs": [
    {
     "name": "stdout",
     "output_type": "stream",
     "text": [
      "Fitting KNeighborsClassifier(n_jobs=-1, weights='distance')\n",
      "Evaluating KNeighborsClassifier(n_jobs=-1, weights='distance')\n",
      "Test accuracy: 0.9052352979149183\n"
     ]
    }
   ],
   "source": [
    "clf = KNeighborsClassifier(n_neighbors=5, weights='distance', n_jobs=-1)\n",
    "print('Fitting', clf)\n",
    "clf.fit(x_treino, y_treino)\n",
    "print('Evaluating', clf)\n",
    "\n",
    "test_score = clf.score(x_val, y_val)\n",
    "print('Test accuracy:', test_score)"
   ]
  },
  {
   "cell_type": "markdown",
   "metadata": {},
   "source": [
    "### 3 Vizinhos Mais Próximos:"
   ]
  },
  {
   "cell_type": "code",
   "execution_count": 20,
   "metadata": {},
   "outputs": [
    {
     "name": "stdout",
     "output_type": "stream",
     "text": [
      "Fitting KNeighborsClassifier(n_jobs=-1, n_neighbors=3, weights='distance')\n",
      "Evaluating KNeighborsClassifier(n_jobs=-1, n_neighbors=3, weights='distance')\n",
      "Test accuracy: 0.9064833344092269\n"
     ]
    }
   ],
   "source": [
    "clf = KNeighborsClassifier(n_neighbors=3, weights='distance', n_jobs=-1)\n",
    "print('Fitting', clf)\n",
    "clf.fit(x_treino, y_treino)\n",
    "print('Evaluating', clf)\n",
    "\n",
    "test_score = clf.score(x_val, y_val)\n",
    "print('Test accuracy:', test_score)"
   ]
  },
  {
   "cell_type": "markdown",
   "metadata": {},
   "source": [
    "### Floresta Aleatória:"
   ]
  },
  {
   "cell_type": "code",
   "execution_count": 21,
   "metadata": {},
   "outputs": [
    {
     "data": {
      "text/plain": [
       "0.8776278699459902"
      ]
     },
     "execution_count": 21,
     "metadata": {},
     "output_type": "execute_result"
    }
   ],
   "source": [
    "ra_fo = RandomForestClassifier(n_estimators=100)\n",
    "ra_fo.fit(x_treino, y_treino)\n",
    "ra_fo.score(x_val, y_val)"
   ]
  },
  {
   "cell_type": "markdown",
   "metadata": {},
   "source": [
    "## Redes Neurais:"
   ]
  },
  {
   "cell_type": "code",
   "execution_count": 22,
   "metadata": {},
   "outputs": [],
   "source": [
    "y_treino_catg = np_utils.to_categorical(y_treino)\n",
    "y_val_catg = np_utils.to_categorical(y_val)"
   ]
  },
  {
   "cell_type": "code",
   "execution_count": 23,
   "metadata": {},
   "outputs": [],
   "source": [
    "IMG_ROWS = 28\n",
    "IMG_COLS = 28\n",
    "\n",
    "NUM_CLASSES = 49\n",
    "NO_EPOCHS = 25\n",
    "BATCH_SIZE = 128"
   ]
  },
  {
   "cell_type": "code",
   "execution_count": 24,
   "metadata": {},
   "outputs": [],
   "source": [
    "num_images_train = x_treino.shape[0]\n",
    "x_shaped_treino = x_treino.reshape(num_images_train, IMG_ROWS, IMG_COLS, 1)\n",
    "\n",
    "num_images_val = x_val.shape[0]\n",
    "x_shaped_val = x_val.reshape(num_images_val, IMG_ROWS, IMG_COLS, 1)"
   ]
  },
  {
   "cell_type": "code",
   "execution_count": 25,
   "metadata": {},
   "outputs": [],
   "source": [
    "# Model\n",
    "model = Sequential()\n",
    "# Add convolution 2D\n",
    "model.add(Conv2D(32, kernel_size=(3, 3),activation='relu', padding=\"same\",\n",
    "        kernel_initializer='he_normal',input_shape=(IMG_ROWS, IMG_COLS, 1)))\n",
    "\n",
    "model.add(BatchNormalization())\n",
    "\n",
    "model.add(Conv2D(32,kernel_size=(3, 3), activation='relu'))\n",
    "model.add(BatchNormalization())\n",
    "model.add(Conv2D(32,kernel_size=5,strides=2,padding='same',activation='relu'))\n",
    "model.add(MaxPooling2D((2, 2)))\n",
    "model.add(BatchNormalization())\n",
    "model.add(Dropout(0.4))\n",
    "# model.add(Conv2D(64, kernel_size=(3, 3), strides=2,padding='same', activation='relu'))\n",
    "# model.add(MaxPooling2D(pool_size=(2, 2)))\n",
    "# model.add(BatchNormalization())\n",
    "# model.add(Conv2D(64, kernel_size=(3, 3), strides=2,padding='same', activation='relu'))\n",
    "# model.add(Dropout(0.4))\n",
    "model.add(Flatten())\n",
    "model.add(Dense(128, activation='relu'))\n",
    "model.add(Dropout(0.4))\n",
    "model.add(Dense(NUM_CLASSES, activation='softmax'))"
   ]
  },
  {
   "cell_type": "code",
   "execution_count": 26,
   "metadata": {},
   "outputs": [],
   "source": [
    "# Compile the model\n",
    "model.compile(loss = \"categorical_crossentropy\", optimizer=\"adam\", metrics=[\"accuracy\"])"
   ]
  },
  {
   "cell_type": "code",
   "execution_count": 27,
   "metadata": {},
   "outputs": [
    {
     "name": "stdout",
     "output_type": "stream",
     "text": [
      "Model: \"sequential\"\n",
      "_________________________________________________________________\n",
      "Layer (type)                 Output Shape              Param #   \n",
      "=================================================================\n",
      "conv2d (Conv2D)              (None, 28, 28, 32)        320       \n",
      "_________________________________________________________________\n",
      "batch_normalization (BatchNo (None, 28, 28, 32)        128       \n",
      "_________________________________________________________________\n",
      "conv2d_1 (Conv2D)            (None, 26, 26, 32)        9248      \n",
      "_________________________________________________________________\n",
      "batch_normalization_1 (Batch (None, 26, 26, 32)        128       \n",
      "_________________________________________________________________\n",
      "conv2d_2 (Conv2D)            (None, 13, 13, 32)        25632     \n",
      "_________________________________________________________________\n",
      "max_pooling2d (MaxPooling2D) (None, 6, 6, 32)          0         \n",
      "_________________________________________________________________\n",
      "batch_normalization_2 (Batch (None, 6, 6, 32)          128       \n",
      "_________________________________________________________________\n",
      "dropout (Dropout)            (None, 6, 6, 32)          0         \n",
      "_________________________________________________________________\n",
      "flatten (Flatten)            (None, 1152)              0         \n",
      "_________________________________________________________________\n",
      "dense (Dense)                (None, 128)               147584    \n",
      "_________________________________________________________________\n",
      "dropout_1 (Dropout)          (None, 128)               0         \n",
      "_________________________________________________________________\n",
      "dense_1 (Dense)              (None, 49)                6321      \n",
      "=================================================================\n",
      "Total params: 189,489\n",
      "Trainable params: 189,297\n",
      "Non-trainable params: 192\n",
      "_________________________________________________________________\n"
     ]
    }
   ],
   "source": [
    "model.summary()"
   ]
  },
  {
   "cell_type": "code",
   "execution_count": 28,
   "metadata": {},
   "outputs": [
    {
     "name": "stdout",
     "output_type": "stream",
     "text": [
      "Epoch 1/25\n",
      "1453/1453 [==============================] - 515s 348ms/step - loss: 1.5401 - accuracy: 0.6120 - val_loss: 0.3048 - val_accuracy: 0.9191\n",
      "Epoch 2/25\n",
      "1453/1453 [==============================] - 494s 340ms/step - loss: 0.5172 - accuracy: 0.8561 - val_loss: 0.2205 - val_accuracy: 0.9413\n",
      "Epoch 3/25\n",
      "1453/1453 [==============================] - 472s 325ms/step - loss: 0.4110 - accuracy: 0.8848 - val_loss: 0.1919 - val_accuracy: 0.9486\n",
      "Epoch 4/25\n",
      "1453/1453 [==============================] - 463s 319ms/step - loss: 0.3585 - accuracy: 0.8981 - val_loss: 0.1697 - val_accuracy: 0.9549\n",
      "Epoch 5/25\n",
      "1453/1453 [==============================] - 466s 320ms/step - loss: 0.3266 - accuracy: 0.9077 - val_loss: 0.1596 - val_accuracy: 0.9574\n",
      "Epoch 6/25\n",
      "1453/1453 [==============================] - 469s 323ms/step - loss: 0.3062 - accuracy: 0.9126 - val_loss: 0.1535 - val_accuracy: 0.9592\n",
      "Epoch 7/25\n",
      "1453/1453 [==============================] - 463s 319ms/step - loss: 0.2935 - accuracy: 0.9163 - val_loss: 0.1441 - val_accuracy: 0.9612\n",
      "Epoch 8/25\n",
      "1453/1453 [==============================] - 463s 318ms/step - loss: 0.2846 - accuracy: 0.9182 - val_loss: 0.1405 - val_accuracy: 0.9642\n",
      "Epoch 9/25\n",
      "1453/1453 [==============================] - 461s 317ms/step - loss: 0.2668 - accuracy: 0.9226 - val_loss: 0.1393 - val_accuracy: 0.9630\n",
      "Epoch 10/25\n",
      "1453/1453 [==============================] - 461s 317ms/step - loss: 0.2649 - accuracy: 0.9241 - val_loss: 0.1374 - val_accuracy: 0.9642\n",
      "Epoch 11/25\n",
      "1453/1453 [==============================] - 460s 317ms/step - loss: 0.2566 - accuracy: 0.9256 - val_loss: 0.1333 - val_accuracy: 0.9649\n",
      "Epoch 12/25\n",
      "1453/1453 [==============================] - 463s 319ms/step - loss: 0.2521 - accuracy: 0.9271 - val_loss: 0.1304 - val_accuracy: 0.9657\n",
      "Epoch 13/25\n",
      "1453/1453 [==============================] - 461s 317ms/step - loss: 0.2421 - accuracy: 0.9298 - val_loss: 0.1289 - val_accuracy: 0.9652\n",
      "Epoch 14/25\n",
      "1453/1453 [==============================] - 464s 319ms/step - loss: 0.2356 - accuracy: 0.9311 - val_loss: 0.1273 - val_accuracy: 0.9669\n",
      "Epoch 15/25\n",
      "1453/1453 [==============================] - 461s 317ms/step - loss: 0.2324 - accuracy: 0.9322 - val_loss: 0.1258 - val_accuracy: 0.9676\n",
      "Epoch 16/25\n",
      "1453/1453 [==============================] - 463s 319ms/step - loss: 0.2291 - accuracy: 0.9335 - val_loss: 0.1244 - val_accuracy: 0.9681\n",
      "Epoch 17/25\n",
      "1453/1453 [==============================] - 460s 316ms/step - loss: 0.2242 - accuracy: 0.9340 - val_loss: 0.1238 - val_accuracy: 0.9682\n",
      "Epoch 18/25\n",
      "1453/1453 [==============================] - 461s 317ms/step - loss: 0.2240 - accuracy: 0.9341 - val_loss: 0.1211 - val_accuracy: 0.9689\n",
      "Epoch 19/25\n",
      "1453/1453 [==============================] - 464s 319ms/step - loss: 0.2163 - accuracy: 0.9364 - val_loss: 0.1190 - val_accuracy: 0.9700\n",
      "Epoch 20/25\n",
      "1453/1453 [==============================] - 465s 320ms/step - loss: 0.2124 - accuracy: 0.9379 - val_loss: 0.1222 - val_accuracy: 0.9677\n",
      "Epoch 21/25\n",
      "1453/1453 [==============================] - 462s 318ms/step - loss: 0.2134 - accuracy: 0.9372 - val_loss: 0.1199 - val_accuracy: 0.9693\n",
      "Epoch 22/25\n",
      "1453/1453 [==============================] - 463s 319ms/step - loss: 0.2095 - accuracy: 0.9381 - val_loss: 0.1186 - val_accuracy: 0.9696\n",
      "Epoch 23/25\n",
      "1453/1453 [==============================] - 469s 323ms/step - loss: 0.2062 - accuracy: 0.9403 - val_loss: 0.1157 - val_accuracy: 0.9709\n",
      "Epoch 24/25\n",
      "1453/1453 [==============================] - 463s 319ms/step - loss: 0.2053 - accuracy: 0.9390 - val_loss: 0.1200 - val_accuracy: 0.9689\n",
      "Epoch 25/25\n",
      "1453/1453 [==============================] - 468s 322ms/step - loss: 0.2048 - accuracy: 0.9388 - val_loss: 0.1169 - val_accuracy: 0.9699\n"
     ]
    }
   ],
   "source": [
    "history = model.fit(x_shaped_treino, y_treino_catg,\n",
    "          batch_size=BATCH_SIZE,\n",
    "          epochs=NO_EPOCHS,\n",
    "          verbose=1,\n",
    "          validation_data=(x_shaped_val, y_val_catg))"
   ]
  },
  {
   "cell_type": "code",
   "execution_count": 29,
   "metadata": {},
   "outputs": [
    {
     "name": "stderr",
     "output_type": "stream",
     "text": [
      "C:\\Users\\karin\\anaconda3\\lib\\site-packages\\tensorflow\\python\\keras\\engine\\sequential.py:450: UserWarning: `model.predict_classes()` is deprecated and will be removed after 2021-01-01. Please use instead:* `np.argmax(model.predict(x), axis=-1)`,   if your model does multi-class classification   (e.g. if it uses a `softmax` last-layer activation).* `(model.predict(x) > 0.5).astype(\"int32\")`,   if your model does binary classification   (e.g. if it uses a `sigmoid` last-layer activation).\n",
      "  warnings.warn('`model.predict_classes()` is deprecated and '\n"
     ]
    },
    {
     "data": {
      "text/plain": [
       "array([0.96985346])"
      ]
     },
     "execution_count": 29,
     "metadata": {},
     "output_type": "execute_result"
    }
   ],
   "source": [
    "#get the predictions for the test data\n",
    "predicted_classes = model.predict_classes(x_shaped_val)\n",
    "#get the indices to be plotted\n",
    "y_true = np.argmax(y_val_catg,axis=1)\n",
    "\n",
    "((y_true==predicted_classes).sum())/ y_true.shape"
   ]
  },
  {
   "cell_type": "markdown",
   "metadata": {},
   "source": [
    "### \"Forçando um dataset balanceado\""
   ]
  },
  {
   "cell_type": "code",
   "execution_count": 30,
   "metadata": {},
   "outputs": [
    {
     "data": {
      "text/plain": [
       "392"
      ]
     },
     "execution_count": 30,
     "metadata": {},
     "output_type": "execute_result"
    }
   ],
   "source": [
    "balanceamento = observacoes_por_classe.min()\n",
    "balanceamento"
   ]
  },
  {
   "cell_type": "code",
   "execution_count": 31,
   "metadata": {},
   "outputs": [],
   "source": [
    "## Transformar numpy em dataframe para esse sorteio: ---\n",
    "df_treino = pd.DataFrame(x_train)\n",
    "df_treino['y'] =  pd.DataFrame(y_train)"
   ]
  },
  {
   "cell_type": "code",
   "execution_count": 32,
   "metadata": {},
   "outputs": [
    {
     "data": {
      "text/html": [
       "<div>\n",
       "<style scoped>\n",
       "    .dataframe tbody tr th:only-of-type {\n",
       "        vertical-align: middle;\n",
       "    }\n",
       "\n",
       "    .dataframe tbody tr th {\n",
       "        vertical-align: top;\n",
       "    }\n",
       "\n",
       "    .dataframe thead th {\n",
       "        text-align: right;\n",
       "    }\n",
       "</style>\n",
       "<table border=\"1\" class=\"dataframe\">\n",
       "  <thead>\n",
       "    <tr style=\"text-align: right;\">\n",
       "      <th></th>\n",
       "      <th>0</th>\n",
       "      <th>1</th>\n",
       "      <th>2</th>\n",
       "      <th>3</th>\n",
       "      <th>4</th>\n",
       "      <th>5</th>\n",
       "      <th>6</th>\n",
       "      <th>7</th>\n",
       "      <th>8</th>\n",
       "      <th>9</th>\n",
       "      <th>...</th>\n",
       "      <th>775</th>\n",
       "      <th>776</th>\n",
       "      <th>777</th>\n",
       "      <th>778</th>\n",
       "      <th>779</th>\n",
       "      <th>780</th>\n",
       "      <th>781</th>\n",
       "      <th>782</th>\n",
       "      <th>783</th>\n",
       "      <th>y</th>\n",
       "    </tr>\n",
       "  </thead>\n",
       "  <tbody>\n",
       "    <tr>\n",
       "      <th>0</th>\n",
       "      <td>0</td>\n",
       "      <td>0</td>\n",
       "      <td>0</td>\n",
       "      <td>0</td>\n",
       "      <td>0</td>\n",
       "      <td>0</td>\n",
       "      <td>0</td>\n",
       "      <td>0</td>\n",
       "      <td>0</td>\n",
       "      <td>0</td>\n",
       "      <td>...</td>\n",
       "      <td>0</td>\n",
       "      <td>0</td>\n",
       "      <td>0</td>\n",
       "      <td>0</td>\n",
       "      <td>0</td>\n",
       "      <td>0</td>\n",
       "      <td>0</td>\n",
       "      <td>0</td>\n",
       "      <td>0</td>\n",
       "      <td>30</td>\n",
       "    </tr>\n",
       "    <tr>\n",
       "      <th>1</th>\n",
       "      <td>0</td>\n",
       "      <td>0</td>\n",
       "      <td>0</td>\n",
       "      <td>0</td>\n",
       "      <td>0</td>\n",
       "      <td>0</td>\n",
       "      <td>0</td>\n",
       "      <td>0</td>\n",
       "      <td>0</td>\n",
       "      <td>0</td>\n",
       "      <td>...</td>\n",
       "      <td>3</td>\n",
       "      <td>11</td>\n",
       "      <td>2</td>\n",
       "      <td>0</td>\n",
       "      <td>0</td>\n",
       "      <td>0</td>\n",
       "      <td>0</td>\n",
       "      <td>0</td>\n",
       "      <td>0</td>\n",
       "      <td>19</td>\n",
       "    </tr>\n",
       "    <tr>\n",
       "      <th>2</th>\n",
       "      <td>0</td>\n",
       "      <td>0</td>\n",
       "      <td>0</td>\n",
       "      <td>0</td>\n",
       "      <td>0</td>\n",
       "      <td>0</td>\n",
       "      <td>0</td>\n",
       "      <td>0</td>\n",
       "      <td>0</td>\n",
       "      <td>85</td>\n",
       "      <td>...</td>\n",
       "      <td>0</td>\n",
       "      <td>0</td>\n",
       "      <td>0</td>\n",
       "      <td>0</td>\n",
       "      <td>0</td>\n",
       "      <td>0</td>\n",
       "      <td>0</td>\n",
       "      <td>0</td>\n",
       "      <td>0</td>\n",
       "      <td>20</td>\n",
       "    </tr>\n",
       "    <tr>\n",
       "      <th>3</th>\n",
       "      <td>0</td>\n",
       "      <td>0</td>\n",
       "      <td>0</td>\n",
       "      <td>0</td>\n",
       "      <td>0</td>\n",
       "      <td>0</td>\n",
       "      <td>0</td>\n",
       "      <td>0</td>\n",
       "      <td>0</td>\n",
       "      <td>0</td>\n",
       "      <td>...</td>\n",
       "      <td>255</td>\n",
       "      <td>155</td>\n",
       "      <td>0</td>\n",
       "      <td>0</td>\n",
       "      <td>0</td>\n",
       "      <td>0</td>\n",
       "      <td>0</td>\n",
       "      <td>0</td>\n",
       "      <td>0</td>\n",
       "      <td>30</td>\n",
       "    </tr>\n",
       "    <tr>\n",
       "      <th>4</th>\n",
       "      <td>0</td>\n",
       "      <td>0</td>\n",
       "      <td>0</td>\n",
       "      <td>0</td>\n",
       "      <td>0</td>\n",
       "      <td>0</td>\n",
       "      <td>0</td>\n",
       "      <td>0</td>\n",
       "      <td>0</td>\n",
       "      <td>0</td>\n",
       "      <td>...</td>\n",
       "      <td>23</td>\n",
       "      <td>165</td>\n",
       "      <td>36</td>\n",
       "      <td>0</td>\n",
       "      <td>0</td>\n",
       "      <td>0</td>\n",
       "      <td>0</td>\n",
       "      <td>0</td>\n",
       "      <td>0</td>\n",
       "      <td>7</td>\n",
       "    </tr>\n",
       "    <tr>\n",
       "      <th>...</th>\n",
       "      <td>...</td>\n",
       "      <td>...</td>\n",
       "      <td>...</td>\n",
       "      <td>...</td>\n",
       "      <td>...</td>\n",
       "      <td>...</td>\n",
       "      <td>...</td>\n",
       "      <td>...</td>\n",
       "      <td>...</td>\n",
       "      <td>...</td>\n",
       "      <td>...</td>\n",
       "      <td>...</td>\n",
       "      <td>...</td>\n",
       "      <td>...</td>\n",
       "      <td>...</td>\n",
       "      <td>...</td>\n",
       "      <td>...</td>\n",
       "      <td>...</td>\n",
       "      <td>...</td>\n",
       "      <td>...</td>\n",
       "      <td>...</td>\n",
       "    </tr>\n",
       "    <tr>\n",
       "      <th>232360</th>\n",
       "      <td>0</td>\n",
       "      <td>0</td>\n",
       "      <td>0</td>\n",
       "      <td>0</td>\n",
       "      <td>0</td>\n",
       "      <td>0</td>\n",
       "      <td>0</td>\n",
       "      <td>0</td>\n",
       "      <td>0</td>\n",
       "      <td>0</td>\n",
       "      <td>...</td>\n",
       "      <td>0</td>\n",
       "      <td>0</td>\n",
       "      <td>0</td>\n",
       "      <td>0</td>\n",
       "      <td>0</td>\n",
       "      <td>0</td>\n",
       "      <td>0</td>\n",
       "      <td>0</td>\n",
       "      <td>0</td>\n",
       "      <td>39</td>\n",
       "    </tr>\n",
       "    <tr>\n",
       "      <th>232361</th>\n",
       "      <td>0</td>\n",
       "      <td>0</td>\n",
       "      <td>0</td>\n",
       "      <td>0</td>\n",
       "      <td>0</td>\n",
       "      <td>0</td>\n",
       "      <td>0</td>\n",
       "      <td>3</td>\n",
       "      <td>109</td>\n",
       "      <td>87</td>\n",
       "      <td>...</td>\n",
       "      <td>0</td>\n",
       "      <td>0</td>\n",
       "      <td>0</td>\n",
       "      <td>0</td>\n",
       "      <td>0</td>\n",
       "      <td>0</td>\n",
       "      <td>0</td>\n",
       "      <td>0</td>\n",
       "      <td>0</td>\n",
       "      <td>5</td>\n",
       "    </tr>\n",
       "    <tr>\n",
       "      <th>232362</th>\n",
       "      <td>0</td>\n",
       "      <td>0</td>\n",
       "      <td>0</td>\n",
       "      <td>0</td>\n",
       "      <td>0</td>\n",
       "      <td>0</td>\n",
       "      <td>0</td>\n",
       "      <td>0</td>\n",
       "      <td>0</td>\n",
       "      <td>0</td>\n",
       "      <td>...</td>\n",
       "      <td>194</td>\n",
       "      <td>240</td>\n",
       "      <td>96</td>\n",
       "      <td>0</td>\n",
       "      <td>0</td>\n",
       "      <td>0</td>\n",
       "      <td>0</td>\n",
       "      <td>0</td>\n",
       "      <td>0</td>\n",
       "      <td>10</td>\n",
       "    </tr>\n",
       "    <tr>\n",
       "      <th>232363</th>\n",
       "      <td>0</td>\n",
       "      <td>0</td>\n",
       "      <td>0</td>\n",
       "      <td>0</td>\n",
       "      <td>0</td>\n",
       "      <td>0</td>\n",
       "      <td>0</td>\n",
       "      <td>0</td>\n",
       "      <td>0</td>\n",
       "      <td>19</td>\n",
       "      <td>...</td>\n",
       "      <td>0</td>\n",
       "      <td>0</td>\n",
       "      <td>0</td>\n",
       "      <td>0</td>\n",
       "      <td>0</td>\n",
       "      <td>0</td>\n",
       "      <td>0</td>\n",
       "      <td>0</td>\n",
       "      <td>0</td>\n",
       "      <td>39</td>\n",
       "    </tr>\n",
       "    <tr>\n",
       "      <th>232364</th>\n",
       "      <td>0</td>\n",
       "      <td>0</td>\n",
       "      <td>0</td>\n",
       "      <td>0</td>\n",
       "      <td>0</td>\n",
       "      <td>0</td>\n",
       "      <td>0</td>\n",
       "      <td>0</td>\n",
       "      <td>0</td>\n",
       "      <td>0</td>\n",
       "      <td>...</td>\n",
       "      <td>0</td>\n",
       "      <td>0</td>\n",
       "      <td>0</td>\n",
       "      <td>0</td>\n",
       "      <td>0</td>\n",
       "      <td>0</td>\n",
       "      <td>0</td>\n",
       "      <td>0</td>\n",
       "      <td>0</td>\n",
       "      <td>30</td>\n",
       "    </tr>\n",
       "  </tbody>\n",
       "</table>\n",
       "<p>232365 rows × 785 columns</p>\n",
       "</div>"
      ],
      "text/plain": [
       "        0  1  2  3  4  5  6  7    8   9  ...  775  776  777  778  779  780  \\\n",
       "0       0  0  0  0  0  0  0  0    0   0  ...    0    0    0    0    0    0   \n",
       "1       0  0  0  0  0  0  0  0    0   0  ...    3   11    2    0    0    0   \n",
       "2       0  0  0  0  0  0  0  0    0  85  ...    0    0    0    0    0    0   \n",
       "3       0  0  0  0  0  0  0  0    0   0  ...  255  155    0    0    0    0   \n",
       "4       0  0  0  0  0  0  0  0    0   0  ...   23  165   36    0    0    0   \n",
       "...    .. .. .. .. .. .. .. ..  ...  ..  ...  ...  ...  ...  ...  ...  ...   \n",
       "232360  0  0  0  0  0  0  0  0    0   0  ...    0    0    0    0    0    0   \n",
       "232361  0  0  0  0  0  0  0  3  109  87  ...    0    0    0    0    0    0   \n",
       "232362  0  0  0  0  0  0  0  0    0   0  ...  194  240   96    0    0    0   \n",
       "232363  0  0  0  0  0  0  0  0    0  19  ...    0    0    0    0    0    0   \n",
       "232364  0  0  0  0  0  0  0  0    0   0  ...    0    0    0    0    0    0   \n",
       "\n",
       "        781  782  783   y  \n",
       "0         0    0    0  30  \n",
       "1         0    0    0  19  \n",
       "2         0    0    0  20  \n",
       "3         0    0    0  30  \n",
       "4         0    0    0   7  \n",
       "...     ...  ...  ...  ..  \n",
       "232360    0    0    0  39  \n",
       "232361    0    0    0   5  \n",
       "232362    0    0    0  10  \n",
       "232363    0    0    0  39  \n",
       "232364    0    0    0  30  \n",
       "\n",
       "[232365 rows x 785 columns]"
      ]
     },
     "execution_count": 32,
     "metadata": {},
     "output_type": "execute_result"
    }
   ],
   "source": [
    "df_treino"
   ]
  },
  {
   "cell_type": "code",
   "execution_count": 33,
   "metadata": {},
   "outputs": [],
   "source": [
    "df_treino_balanceado = pd.DataFrame()\n",
    "for y in list(df_treino.y.unique()):\n",
    "    df_parcial = df_treino[df_treino.y==y].sample(n = balanceamento)\n",
    "    df_treino_balanceado = pd.concat([df_treino_balanceado, df_parcial])\n"
   ]
  },
  {
   "cell_type": "code",
   "execution_count": 34,
   "metadata": {},
   "outputs": [
    {
     "data": {
      "text/plain": [
       "array([30, 30, 30, ..., 32, 32, 32], dtype=uint8)"
      ]
     },
     "execution_count": 34,
     "metadata": {},
     "output_type": "execute_result"
    }
   ],
   "source": [
    "y_train_balanceado = df_treino_balanceado.y.to_numpy()\n",
    "df_treino_balanceado.drop(columns=['y'], inplace = True)\n",
    "y_train_balanceado"
   ]
  },
  {
   "cell_type": "code",
   "execution_count": 35,
   "metadata": {},
   "outputs": [
    {
     "data": {
      "text/plain": [
       "(19208, 784)"
      ]
     },
     "execution_count": 35,
     "metadata": {},
     "output_type": "execute_result"
    }
   ],
   "source": [
    "x_train_balanceado = df_treino_balanceado.to_numpy() \n",
    "x_train_balanceado.shape"
   ]
  },
  {
   "cell_type": "markdown",
   "metadata": {},
   "source": [
    "## Refazendo os modelos, para o dataset balanceado"
   ]
  },
  {
   "cell_type": "markdown",
   "metadata": {},
   "source": [
    "### Dividindo entre treino e validação"
   ]
  },
  {
   "cell_type": "code",
   "execution_count": 36,
   "metadata": {},
   "outputs": [],
   "source": [
    "x_treino,x_val, y_treino, y_val  = train_test_split(\n",
    "...     x_train_balanceado, y_train_balanceado, test_size=0.20)"
   ]
  },
  {
   "cell_type": "markdown",
   "metadata": {},
   "source": [
    "### Regressão Logística Multinomial"
   ]
  },
  {
   "cell_type": "code",
   "execution_count": 37,
   "metadata": {},
   "outputs": [
    {
     "data": {
      "text/plain": [
       "LogisticRegression(max_iter=1000, penalty='none')"
      ]
     },
     "execution_count": 37,
     "metadata": {},
     "output_type": "execute_result"
    }
   ],
   "source": [
    "#logreg = LogisticRegression(multi_class='multinomial', solver='lbfgs', max_iter=1000)\n",
    "logreg = LogisticRegression(penalty='none', max_iter=1000)\n",
    "# fit the model on the whole dataset\n",
    "logreg.fit(x_treino, y_treino)"
   ]
  },
  {
   "cell_type": "code",
   "execution_count": 38,
   "metadata": {},
   "outputs": [
    {
     "data": {
      "text/plain": [
       "0.46772514315460695"
      ]
     },
     "execution_count": 38,
     "metadata": {},
     "output_type": "execute_result"
    }
   ],
   "source": [
    "## Acurácia, acertos geral, na amostrane validação\n",
    "logreg.score(x_val, y_val)"
   ]
  },
  {
   "cell_type": "markdown",
   "metadata": {},
   "source": [
    "### Árvore de classificação:"
   ]
  },
  {
   "cell_type": "code",
   "execution_count": 39,
   "metadata": {},
   "outputs": [
    {
     "data": {
      "text/plain": [
       "DecisionTreeClassifier()"
      ]
     },
     "execution_count": 39,
     "metadata": {},
     "output_type": "execute_result"
    }
   ],
   "source": [
    "arvore= tree.DecisionTreeClassifier()\n",
    "arvore.fit(x_treino, y_treino)"
   ]
  },
  {
   "cell_type": "code",
   "execution_count": 40,
   "metadata": {},
   "outputs": [
    {
     "data": {
      "text/plain": [
       "0.43180635085892766"
      ]
     },
     "execution_count": 40,
     "metadata": {},
     "output_type": "execute_result"
    }
   ],
   "source": [
    "## Acurácia, acertos geral, na amostrane validação\n",
    "arvore.score(x_val, y_val)"
   ]
  },
  {
   "cell_type": "markdown",
   "metadata": {},
   "source": [
    "### 4 Vizinhos Mais Próximos:"
   ]
  },
  {
   "cell_type": "code",
   "execution_count": 41,
   "metadata": {},
   "outputs": [
    {
     "name": "stdout",
     "output_type": "stream",
     "text": [
      "Fitting KNeighborsClassifier(n_jobs=-1, n_neighbors=4, weights='distance')\n",
      "Evaluating KNeighborsClassifier(n_jobs=-1, n_neighbors=4, weights='distance')\n",
      "Test accuracy: 0.8001041124414368\n"
     ]
    }
   ],
   "source": [
    "clf = KNeighborsClassifier(n_neighbors=4, weights='distance', n_jobs=-1)\n",
    "print('Fitting', clf)\n",
    "clf.fit(x_treino, y_treino)\n",
    "print('Evaluating', clf)\n",
    "\n",
    "test_score = clf.score(x_val, y_val)\n",
    "print('Test accuracy:', test_score)"
   ]
  },
  {
   "cell_type": "markdown",
   "metadata": {},
   "source": [
    "### 5 Vizinhos Mais Próximos:"
   ]
  },
  {
   "cell_type": "code",
   "execution_count": 42,
   "metadata": {},
   "outputs": [
    {
     "name": "stdout",
     "output_type": "stream",
     "text": [
      "Fitting KNeighborsClassifier(n_jobs=-1, weights='distance')\n",
      "Evaluating KNeighborsClassifier(n_jobs=-1, weights='distance')\n",
      "Test accuracy: 0.7954190525767829\n"
     ]
    }
   ],
   "source": [
    "clf = KNeighborsClassifier(n_neighbors=5, weights='distance', n_jobs=-1)\n",
    "print('Fitting', clf)\n",
    "clf.fit(x_treino, y_treino)\n",
    "print('Evaluating', clf)\n",
    "\n",
    "test_score = clf.score(x_val, y_val)\n",
    "print('Test accuracy:', test_score)"
   ]
  },
  {
   "cell_type": "markdown",
   "metadata": {},
   "source": [
    "### 3 Vizinhos Mais Próximos:"
   ]
  },
  {
   "cell_type": "code",
   "execution_count": 43,
   "metadata": {},
   "outputs": [
    {
     "name": "stdout",
     "output_type": "stream",
     "text": [
      "Fitting KNeighborsClassifier(n_jobs=-1, n_neighbors=3, weights='distance')\n",
      "Evaluating KNeighborsClassifier(n_jobs=-1, n_neighbors=3, weights='distance')\n",
      "Test accuracy: 0.7998438313378449\n"
     ]
    }
   ],
   "source": [
    "clf = KNeighborsClassifier(n_neighbors=3, weights='distance', n_jobs=-1)\n",
    "print('Fitting', clf)\n",
    "clf.fit(x_treino, y_treino)\n",
    "print('Evaluating', clf)\n",
    "\n",
    "test_score = clf.score(x_val, y_val)\n",
    "print('Test accuracy:', test_score)"
   ]
  },
  {
   "cell_type": "markdown",
   "metadata": {},
   "source": [
    "### Floresta Aleatória:"
   ]
  },
  {
   "cell_type": "code",
   "execution_count": 44,
   "metadata": {},
   "outputs": [
    {
     "data": {
      "text/plain": [
       "0.7709526288391463"
      ]
     },
     "execution_count": 44,
     "metadata": {},
     "output_type": "execute_result"
    }
   ],
   "source": [
    "ra_fo = RandomForestClassifier(n_estimators=100)\n",
    "ra_fo.fit(x_treino, y_treino)\n",
    "ra_fo.score(x_val, y_val)"
   ]
  },
  {
   "cell_type": "markdown",
   "metadata": {},
   "source": [
    "## Redes Neurais:"
   ]
  },
  {
   "cell_type": "code",
   "execution_count": 45,
   "metadata": {},
   "outputs": [],
   "source": [
    "y_treino_catg = np_utils.to_categorical(y_treino)\n",
    "y_val_catg = np_utils.to_categorical(y_val)"
   ]
  },
  {
   "cell_type": "code",
   "execution_count": 46,
   "metadata": {},
   "outputs": [],
   "source": [
    "IMG_ROWS = 28\n",
    "IMG_COLS = 28\n",
    "\n",
    "NUM_CLASSES = 49\n",
    "NO_EPOCHS = 25\n",
    "BATCH_SIZE = 128"
   ]
  },
  {
   "cell_type": "code",
   "execution_count": 47,
   "metadata": {},
   "outputs": [],
   "source": [
    "num_images_train = x_treino.shape[0]\n",
    "x_shaped_treino = x_treino.reshape(num_images_train, IMG_ROWS, IMG_COLS, 1)\n",
    "\n",
    "num_images_val = x_val.shape[0]\n",
    "x_shaped_val = x_val.reshape(num_images_val, IMG_ROWS, IMG_COLS, 1)"
   ]
  },
  {
   "cell_type": "code",
   "execution_count": 48,
   "metadata": {},
   "outputs": [
    {
     "name": "stdout",
     "output_type": "stream",
     "text": [
      "Model: \"sequential_1\"\n",
      "_________________________________________________________________\n",
      "Layer (type)                 Output Shape              Param #   \n",
      "=================================================================\n",
      "conv2d_3 (Conv2D)            (None, 28, 28, 32)        320       \n",
      "_________________________________________________________________\n",
      "batch_normalization_3 (Batch (None, 28, 28, 32)        128       \n",
      "_________________________________________________________________\n",
      "conv2d_4 (Conv2D)            (None, 26, 26, 32)        9248      \n",
      "_________________________________________________________________\n",
      "batch_normalization_4 (Batch (None, 26, 26, 32)        128       \n",
      "_________________________________________________________________\n",
      "conv2d_5 (Conv2D)            (None, 13, 13, 32)        25632     \n",
      "_________________________________________________________________\n",
      "max_pooling2d_1 (MaxPooling2 (None, 6, 6, 32)          0         \n",
      "_________________________________________________________________\n",
      "batch_normalization_5 (Batch (None, 6, 6, 32)          128       \n",
      "_________________________________________________________________\n",
      "dropout_2 (Dropout)          (None, 6, 6, 32)          0         \n",
      "_________________________________________________________________\n",
      "flatten_1 (Flatten)          (None, 1152)              0         \n",
      "_________________________________________________________________\n",
      "dense_2 (Dense)              (None, 128)               147584    \n",
      "_________________________________________________________________\n",
      "dropout_3 (Dropout)          (None, 128)               0         \n",
      "_________________________________________________________________\n",
      "dense_3 (Dense)              (None, 49)                6321      \n",
      "=================================================================\n",
      "Total params: 189,489\n",
      "Trainable params: 189,297\n",
      "Non-trainable params: 192\n",
      "_________________________________________________________________\n",
      "Epoch 1/25\n",
      "121/121 [==============================] - 42s 303ms/step - loss: 3.4684 - accuracy: 0.2040 - val_loss: 1.3582 - val_accuracy: 0.6661\n",
      "Epoch 2/25\n",
      "121/121 [==============================] - 38s 312ms/step - loss: 1.6314 - accuracy: 0.5839 - val_loss: 0.8850 - val_accuracy: 0.7704\n",
      "Epoch 3/25\n",
      "121/121 [==============================] - 37s 310ms/step - loss: 1.1786 - accuracy: 0.6811 - val_loss: 0.6944 - val_accuracy: 0.8168\n",
      "Epoch 4/25\n",
      "121/121 [==============================] - 38s 313ms/step - loss: 0.9911 - accuracy: 0.7362 - val_loss: 0.6110 - val_accuracy: 0.8420\n",
      "Epoch 5/25\n",
      "121/121 [==============================] - 38s 311ms/step - loss: 0.8373 - accuracy: 0.7705 - val_loss: 0.5365 - val_accuracy: 0.8589\n",
      "Epoch 6/25\n",
      "121/121 [==============================] - 38s 312ms/step - loss: 0.7557 - accuracy: 0.7885 - val_loss: 0.4971 - val_accuracy: 0.8699\n",
      "Epoch 7/25\n",
      "121/121 [==============================] - 38s 313ms/step - loss: 0.7011 - accuracy: 0.8013 - val_loss: 0.4852 - val_accuracy: 0.8665\n",
      "Epoch 8/25\n",
      "121/121 [==============================] - 38s 313ms/step - loss: 0.6664 - accuracy: 0.8114 - val_loss: 0.4504 - val_accuracy: 0.8855\n",
      "Epoch 9/25\n",
      "121/121 [==============================] - 38s 315ms/step - loss: 0.6108 - accuracy: 0.8254 - val_loss: 0.4260 - val_accuracy: 0.8857\n",
      "Epoch 10/25\n",
      "121/121 [==============================] - 38s 310ms/step - loss: 0.5533 - accuracy: 0.8446 - val_loss: 0.4277 - val_accuracy: 0.8883\n",
      "Epoch 11/25\n",
      "121/121 [==============================] - 38s 313ms/step - loss: 0.5185 - accuracy: 0.8509 - val_loss: 0.4054 - val_accuracy: 0.8894\n",
      "Epoch 12/25\n",
      "121/121 [==============================] - 37s 309ms/step - loss: 0.5003 - accuracy: 0.8546 - val_loss: 0.3975 - val_accuracy: 0.8951\n",
      "Epoch 13/25\n",
      "121/121 [==============================] - 38s 314ms/step - loss: 0.4752 - accuracy: 0.8628 - val_loss: 0.3885 - val_accuracy: 0.8948\n",
      "Epoch 14/25\n",
      "121/121 [==============================] - 38s 314ms/step - loss: 0.4497 - accuracy: 0.8692 - val_loss: 0.3782 - val_accuracy: 0.9040\n",
      "Epoch 15/25\n",
      "121/121 [==============================] - 40s 332ms/step - loss: 0.4237 - accuracy: 0.8770 - val_loss: 0.3709 - val_accuracy: 0.9058\n",
      "Epoch 16/25\n",
      "121/121 [==============================] - 38s 317ms/step - loss: 0.4049 - accuracy: 0.8775 - val_loss: 0.3749 - val_accuracy: 0.8972\n",
      "Epoch 17/25\n",
      "121/121 [==============================] - 38s 311ms/step - loss: 0.4200 - accuracy: 0.8770 - val_loss: 0.3763 - val_accuracy: 0.9014\n",
      "Epoch 18/25\n",
      "121/121 [==============================] - 38s 312ms/step - loss: 0.3793 - accuracy: 0.8846 - val_loss: 0.3555 - val_accuracy: 0.9055\n",
      "Epoch 19/25\n",
      "121/121 [==============================] - 38s 314ms/step - loss: 0.3480 - accuracy: 0.8946 - val_loss: 0.3525 - val_accuracy: 0.9079\n",
      "Epoch 20/25\n",
      "121/121 [==============================] - 38s 315ms/step - loss: 0.3509 - accuracy: 0.8925 - val_loss: 0.3513 - val_accuracy: 0.9089\n",
      "Epoch 21/25\n",
      "121/121 [==============================] - 38s 314ms/step - loss: 0.3290 - accuracy: 0.9017 - val_loss: 0.3430 - val_accuracy: 0.9120\n",
      "Epoch 22/25\n",
      "121/121 [==============================] - 38s 310ms/step - loss: 0.3223 - accuracy: 0.8959 - val_loss: 0.3398 - val_accuracy: 0.9159\n",
      "Epoch 23/25\n",
      "121/121 [==============================] - 38s 317ms/step - loss: 0.3209 - accuracy: 0.8982 - val_loss: 0.3401 - val_accuracy: 0.9123\n",
      "Epoch 24/25\n",
      "121/121 [==============================] - 38s 316ms/step - loss: 0.3127 - accuracy: 0.9038 - val_loss: 0.3429 - val_accuracy: 0.9151\n",
      "Epoch 25/25\n",
      "121/121 [==============================] - 38s 314ms/step - loss: 0.2951 - accuracy: 0.9088 - val_loss: 0.3342 - val_accuracy: 0.9159\n"
     ]
    }
   ],
   "source": [
    "# Model\n",
    "model = Sequential()\n",
    "# Add convolution 2D\n",
    "model.add(Conv2D(32, kernel_size=(3, 3),activation='relu', padding=\"same\",\n",
    "        kernel_initializer='he_normal',input_shape=(IMG_ROWS, IMG_COLS, 1)))\n",
    "\n",
    "model.add(BatchNormalization())\n",
    "\n",
    "model.add(Conv2D(32,kernel_size=(3, 3), activation='relu'))\n",
    "model.add(BatchNormalization())\n",
    "model.add(Conv2D(32,kernel_size=5,strides=2,padding='same',activation='relu'))\n",
    "model.add(MaxPooling2D((2, 2)))\n",
    "model.add(BatchNormalization())\n",
    "model.add(Dropout(0.4))\n",
    "# model.add(Conv2D(64, kernel_size=(3, 3), strides=2,padding='same', activation='relu'))\n",
    "# model.add(MaxPooling2D(pool_size=(2, 2)))\n",
    "# model.add(BatchNormalization())\n",
    "# model.add(Conv2D(64, kernel_size=(3, 3), strides=2,padding='same', activation='relu'))\n",
    "# model.add(Dropout(0.4))\n",
    "model.add(Flatten())\n",
    "model.add(Dense(128, activation='relu'))\n",
    "model.add(Dropout(0.4))\n",
    "model.add(Dense(NUM_CLASSES, activation='softmax'))\n",
    "\n",
    "# Compile the model\n",
    "model.compile(loss = \"categorical_crossentropy\", optimizer=\"adam\", metrics=[\"accuracy\"])\n",
    "\n",
    "model.summary()\n",
    "\n",
    "history = model.fit(x_shaped_treino, y_treino_catg,\n",
    "          batch_size=BATCH_SIZE,\n",
    "          epochs=NO_EPOCHS,\n",
    "          verbose=1,\n",
    "          validation_data=(x_shaped_val, y_val_catg))\n",
    "\n",
    "\n"
   ]
  },
  {
   "cell_type": "code",
   "execution_count": 49,
   "metadata": {},
   "outputs": [
    {
     "name": "stderr",
     "output_type": "stream",
     "text": [
      "C:\\Users\\karin\\anaconda3\\lib\\site-packages\\tensorflow\\python\\keras\\engine\\sequential.py:450: UserWarning: `model.predict_classes()` is deprecated and will be removed after 2021-01-01. Please use instead:* `np.argmax(model.predict(x), axis=-1)`,   if your model does multi-class classification   (e.g. if it uses a `softmax` last-layer activation).* `(model.predict(x) > 0.5).astype(\"int32\")`,   if your model does binary classification   (e.g. if it uses a `sigmoid` last-layer activation).\n",
      "  warnings.warn('`model.predict_classes()` is deprecated and '\n"
     ]
    },
    {
     "data": {
      "text/plain": [
       "array([0.9159292])"
      ]
     },
     "execution_count": 49,
     "metadata": {},
     "output_type": "execute_result"
    }
   ],
   "source": [
    "\n",
    "#get the predictions for the test data\n",
    "predicted_classes = model.predict_classes(x_shaped_val)\n",
    "#get the indices to be plotted\n",
    "y_true = np.argmax(y_val_catg,axis=1)\n",
    "\n",
    "((y_true==predicted_classes).sum())/ y_true.shape"
   ]
  }
 ],
 "metadata": {
  "kernelspec": {
   "display_name": "Python 3",
   "language": "python",
   "name": "python3"
  },
  "language_info": {
   "codemirror_mode": {
    "name": "ipython",
    "version": 3
   },
   "file_extension": ".py",
   "mimetype": "text/x-python",
   "name": "python",
   "nbconvert_exporter": "python",
   "pygments_lexer": "ipython3",
   "version": "3.8.5"
  }
 },
 "nbformat": 4,
 "nbformat_minor": 4
}
