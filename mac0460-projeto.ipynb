{
 "cells": [
  {
   "cell_type": "markdown",
   "metadata": {},
   "source": [
    "### Importando bibliotecas"
   ]
  },
  {
   "cell_type": "code",
   "execution_count": 1,
   "metadata": {},
   "outputs": [],
   "source": [
    "import numpy as np\n",
    "import pandas as pd\n",
    "from sklearn.neighbors import KNeighborsClassifier\n",
    "from sklearn.model_selection import cross_val_score,StratifiedKFold\n",
    "from sklearn.linear_model import LogisticRegression\n",
    "from sklearn.metrics import accuracy_score\n",
    "from sklearn.model_selection import train_test_split\n",
    "from sklearn import preprocessing\n",
    "from sklearn import tree\n",
    "from sklearn.naive_bayes import MultinomialNB\n",
    "from sklearn.decomposition import PCA\n",
    "from sklearn.ensemble import RandomForestClassifier\n",
    "from sklearn.metrics import classification_report\n",
    "from tensorflow.python import keras\n",
    "from tensorflow.python.keras.models import Sequential\n",
    "from tensorflow.python.keras.layers import Dense, Flatten, Conv2D, Dropout, MaxPooling2D, BatchNormalization\n",
    "from IPython.display import SVG\n",
    "from keras.utils.vis_utils import model_to_dot\n",
    "from keras.utils import plot_model\n",
    "import seaborn as sns\n",
    "import matplotlib.pyplot as plt\n",
    "from tqdm import tqdm_notebook\n",
    "from keras.utils import np_utils"
   ]
  },
  {
   "cell_type": "markdown",
   "metadata": {},
   "source": [
    "### Lendo os dados de treino: ----"
   ]
  },
  {
   "cell_type": "code",
   "execution_count": 2,
   "metadata": {},
   "outputs": [],
   "source": [
    "def load(f):\n",
    "    return np.load(f)['arr_0']\n",
    "\n",
    "x_train = load('k49-train-imgs.npz')\n",
    "y_train = load('k49-train-labels.npz')\n",
    "\n",
    "# Flatten images\n",
    "x_train = x_train.reshape(-1, 784)\n",
    "\n",
    "#scaler = preprocessing.StandardScaler().fit(x_train)\n"
   ]
  },
  {
   "cell_type": "markdown",
   "metadata": {},
   "source": [
    "### Quantas observações por classe:"
   ]
  },
  {
   "cell_type": "code",
   "execution_count": 3,
   "metadata": {},
   "outputs": [],
   "source": [
    "observacoes_por_classe = pd.Series(y_train).astype(int).value_counts()"
   ]
  },
  {
   "cell_type": "code",
   "execution_count": 4,
   "metadata": {},
   "outputs": [
    {
     "data": {
      "text/plain": [
       "45     392\n",
       "44     417\n",
       "3      777\n",
       "36    1598\n",
       "32    1718\n",
       "29    1993\n",
       "22    2063\n",
       "42    2139\n",
       "43    2397\n",
       "23    2451\n",
       "16    2565\n",
       "31    3060\n",
       "33    3394\n",
       "48    3523\n",
       "14    3867\n",
       "13    4165\n",
       "8     4714\n",
       "26    5132\n",
       "37    6000\n",
       "35    6000\n",
       "34    6000\n",
       "38    6000\n",
       "39    6000\n",
       "40    6000\n",
       "24    6000\n",
       "46    6000\n",
       "27    6000\n",
       "47    6000\n",
       "21    6000\n",
       "20    6000\n",
       "19    6000\n",
       "18    6000\n",
       "17    6000\n",
       "15    6000\n",
       "12    6000\n",
       "11    6000\n",
       "10    6000\n",
       "9     6000\n",
       "7     6000\n",
       "6     6000\n",
       "5     6000\n",
       "4     6000\n",
       "2     6000\n",
       "1     6000\n",
       "25    6000\n",
       "0     6000\n",
       "28    6000\n",
       "30    6000\n",
       "41    6000\n",
       "dtype: int64"
      ]
     },
     "execution_count": 4,
     "metadata": {},
     "output_type": "execute_result"
    }
   ],
   "source": [
    "observacoes_por_classe.sort_values(ascending=True)  ##classe com o menor número de observações"
   ]
  },
  {
   "cell_type": "code",
   "execution_count": 5,
   "metadata": {
    "scrolled": true
   },
   "outputs": [
    {
     "data": {
      "text/plain": [
       "<AxesSubplot:>"
      ]
     },
     "execution_count": 5,
     "metadata": {},
     "output_type": "execute_result"
    },
    {
     "data": {
      "image/png": "[encoded data removed]",
      "text/plain": [
       "<Figure size 1080x720 with 1 Axes>"
      ]
     },
     "metadata": {
      "needs_background": "light"
     },
     "output_type": "display_data"
    }
   ],
   "source": [
    "observacoes_por_classe.sort_index().plot.bar(figsize=(15, 10))"
   ]
  },
  {
   "cell_type": "markdown",
   "metadata": {},
   "source": [
    "### APLICANDO PCA:"
   ]
  },
  {
   "cell_type": "code",
   "execution_count": 6,
   "metadata": {},
   "outputs": [],
   "source": [
    "# Flatten images\n",
    "# x_train = x_train.reshape(-1, 784)\n",
    "\n",
    "# x_train.shape"
   ]
  },
  {
   "cell_type": "code",
   "execution_count": 7,
   "metadata": {},
   "outputs": [],
   "source": [
    "# 2. Decomponha a matriz de variâncias e covariâncias em componentes principais.\n",
    "# X = np.matrix(x_train)\n",
    "# S = np.cov(np.transpose(X))"
   ]
  },
  {
   "cell_type": "code",
   "execution_count": 8,
   "metadata": {},
   "outputs": [],
   "source": [
    "# variâncias\n",
    "# np.diagonal(S)\n",
    "\n"
   ]
  },
  {
   "cell_type": "code",
   "execution_count": 9,
   "metadata": {},
   "outputs": [],
   "source": [
    "\n",
    "# Z-score the features (usando correlação)\n",
    "# scaler = preprocessing.StandardScaler()\n",
    "# scaler.fit(X)\n",
    "# X = scaler.transform(X)\n",
    "\n",
    "# pca = PCA(n_components=784)\n",
    "\n",
    "# pca.fit(X)"
   ]
  },
  {
   "cell_type": "code",
   "execution_count": 10,
   "metadata": {},
   "outputs": [],
   "source": [
    "# np.round(pca.explained_variance_ratio_,4)"
   ]
  },
  {
   "cell_type": "code",
   "execution_count": 11,
   "metadata": {},
   "outputs": [],
   "source": [
    "# variancia_explicada = pca.explained_variance_ratio_.cumsum()\n",
    "# len(variancia_explicada[variancia_explicada<=0.90])"
   ]
  },
  {
   "cell_type": "markdown",
   "metadata": {},
   "source": [
    "para ter 90 da variância explicada, só precisa da 163 primeiras componentes"
   ]
  },
  {
   "cell_type": "code",
   "execution_count": 12,
   "metadata": {},
   "outputs": [],
   "source": [
    "# principalDf =  pca.fit_transform(X)[:, :169]"
   ]
  },
  {
   "cell_type": "markdown",
   "metadata": {},
   "source": [
    "### Dividindo entre treino e validação"
   ]
  },
  {
   "cell_type": "code",
   "execution_count": 13,
   "metadata": {},
   "outputs": [],
   "source": [
    "x_treino,x_val, y_treino, y_val  = train_test_split(\n",
    "...     x_train, y_train, test_size=0.20)"
   ]
  },
  {
   "cell_type": "markdown",
   "metadata": {},
   "source": [
    "### Regressão Logística Multinomial"
   ]
  },
  {
   "cell_type": "code",
   "execution_count": 14,
   "metadata": {},
   "outputs": [
    {
     "name": "stderr",
     "output_type": "stream",
     "text": [
      "C:\\Users\\karin\\anaconda3\\lib\\site-packages\\sklearn\\linear_model\\_logistic.py:762: ConvergenceWarning: lbfgs failed to converge (status=1):\n",
      "STOP: TOTAL NO. of ITERATIONS REACHED LIMIT.\n",
      "\n",
      "Increase the number of iterations (max_iter) or scale the data as shown in:\n",
      "    https://scikit-learn.org/stable/modules/preprocessing.html\n",
      "Please also refer to the documentation for alternative solver options:\n",
      "    https://scikit-learn.org/stable/modules/linear_model.html#logistic-regression\n",
      "  n_iter_i = _check_optimize_result(\n"
     ]
    },
    {
     "data": {
      "text/plain": [
       "LogisticRegression(max_iter=1000, multi_class='multinomial')"
      ]
     },
     "execution_count": 14,
     "metadata": {},
     "output_type": "execute_result"
    }
   ],
   "source": [
    "logreg = LogisticRegression(multi_class='multinomial', solver='lbfgs', max_iter=1000)\n",
    "#logreg = LogisticRegression(penalty='none', max_iter=500)\n",
    "# fit the model on the whole dataset\n",
    "logreg.fit(x_treino, y_treino)"
   ]
  },
  {
   "cell_type": "code",
   "execution_count": 15,
   "metadata": {},
   "outputs": [
    {
     "data": {
      "text/plain": [
       "0.6724549738557872"
      ]
     },
     "execution_count": 15,
     "metadata": {},
     "output_type": "execute_result"
    }
   ],
   "source": [
    "## Acurácia, acertos geral, na amostrane validação\n",
    "logreg.score(x_val, y_val)"
   ]
  },
  {
   "cell_type": "markdown",
   "metadata": {},
   "source": [
    "### Árvore de classificação:"
   ]
  },
  {
   "cell_type": "code",
   "execution_count": 16,
   "metadata": {},
   "outputs": [
    {
     "data": {
      "text/plain": [
       "DecisionTreeClassifier()"
      ]
     },
     "execution_count": 16,
     "metadata": {},
     "output_type": "execute_result"
    }
   ],
   "source": [
    "arvore= tree.DecisionTreeClassifier()\n",
    "arvore.fit(x_treino, y_treino)"
   ]
  },
  {
   "cell_type": "code",
   "execution_count": 17,
   "metadata": {},
   "outputs": [
    {
     "data": {
      "text/plain": [
       "0.6030813590687065"
      ]
     },
     "execution_count": 17,
     "metadata": {},
     "output_type": "execute_result"
    }
   ],
   "source": [
    "## Acurácia, acertos geral, na amostrane validação\n",
    "arvore.score(x_val, y_val)"
   ]
  },
  {
   "cell_type": "markdown",
   "metadata": {},
   "source": [
    "### 4 Vizinhos Mais Próximos:"
   ]
  },
  {
   "cell_type": "code",
   "execution_count": null,
   "metadata": {},
   "outputs": [
    {
     "name": "stdout",
     "output_type": "stream",
     "text": [
      "Fitting KNeighborsClassifier(n_jobs=-1, n_neighbors=4, weights='distance')\n"
     ]
    }
   ],
   "source": [
    "clf = KNeighborsClassifier(n_neighbors=4, weights='distance', n_jobs=-1)\n",
    "print('Fitting', clf)\n",
    "clf.fit(x_treino, y_treino)\n",
    "print('Evaluating', clf)\n",
    "\n",
    "test_score = clf.score(x_val, y_val)\n",
    "print('Test accuracy:', test_score)"
   ]
  },
  {
   "cell_type": "markdown",
   "metadata": {},
   "source": [
    "### 5 Vizinhos Mais Próximos:"
   ]
  },
  {
   "cell_type": "code",
   "execution_count": null,
   "metadata": {},
   "outputs": [],
   "source": [
    "clf = KNeighborsClassifier(n_neighbors=5, weights='distance', n_jobs=-1)\n",
    "print('Fitting', clf)\n",
    "clf.fit(x_treino, y_treino)\n",
    "print('Evaluating', clf)\n",
    "\n",
    "test_score = clf.score(x_val, y_val)\n",
    "print('Test accuracy:', test_score)"
   ]
  },
  {
   "cell_type": "markdown",
   "metadata": {},
   "source": [
    "### 3 Vizinhos Mais Próximos:"
   ]
  },
  {
   "cell_type": "code",
   "execution_count": null,
   "metadata": {},
   "outputs": [],
   "source": [
    "clf = KNeighborsClassifier(n_neighbors=3, weights='distance', n_jobs=-1)\n",
    "print('Fitting', clf)\n",
    "clf.fit(x_treino, y_treino)\n",
    "print('Evaluating', clf)\n",
    "\n",
    "test_score = clf.score(x_val, y_val)\n",
    "print('Test accuracy:', test_score)"
   ]
  },
  {
   "cell_type": "markdown",
   "metadata": {},
   "source": [
    "### Floresta Aleatória:"
   ]
  },
  {
   "cell_type": "code",
   "execution_count": null,
   "metadata": {},
   "outputs": [],
   "source": [
    "ra_fo = RandomForestClassifier(n_estimators=100)\n",
    "ra_fo.fit(x_treino, y_treino)\n",
    "ra_fo.score(x_val, y_val)"
   ]
  },
  {
   "cell_type": "markdown",
   "metadata": {},
   "source": [
    "## Redes Neurais:"
   ]
  },
  {
   "cell_type": "code",
   "execution_count": null,
   "metadata": {},
   "outputs": [],
   "source": [
    "y_treino_catg = np_utils.to_categorical(y_treino)\n",
    "y_val_catg = np_utils.to_categorical(y_val)"
   ]
  },
  {
   "cell_type": "code",
   "execution_count": null,
   "metadata": {},
   "outputs": [],
   "source": [
    "IMG_ROWS = 28\n",
    "IMG_COLS = 28\n",
    "\n",
    "NUM_CLASSES = 49\n",
    "NO_EPOCHS = 25\n",
    "BATCH_SIZE = 128"
   ]
  },
  {
   "cell_type": "code",
   "execution_count": null,
   "metadata": {},
   "outputs": [],
   "source": [
    "num_images_train = x_treino.shape[0]\n",
    "x_shaped_treino = x_treino.reshape(num_images_train, IMG_ROWS, IMG_COLS, 1)\n",
    "\n",
    "num_images_val = x_val.shape[0]\n",
    "x_shaped_val = x_val.reshape(num_images_val, IMG_ROWS, IMG_COLS, 1)"
   ]
  },
  {
   "cell_type": "code",
   "execution_count": null,
   "metadata": {},
   "outputs": [],
   "source": [
    "# Model\n",
    "model = Sequential()\n",
    "# Add convolution 2D\n",
    "model.add(Conv2D(32, kernel_size=(3, 3),activation='relu', padding=\"same\",\n",
    "        kernel_initializer='he_normal',input_shape=(IMG_ROWS, IMG_COLS, 1)))\n",
    "\n",
    "model.add(BatchNormalization())\n",
    "\n",
    "model.add(Conv2D(32,kernel_size=(3, 3), activation='relu'))\n",
    "model.add(BatchNormalization())\n",
    "model.add(Conv2D(32,kernel_size=5,strides=2,padding='same',activation='relu'))\n",
    "model.add(MaxPooling2D((2, 2)))\n",
    "model.add(BatchNormalization())\n",
    "model.add(Dropout(0.4))\n",
    "# model.add(Conv2D(64, kernel_size=(3, 3), strides=2,padding='same', activation='relu'))\n",
    "# model.add(MaxPooling2D(pool_size=(2, 2)))\n",
    "# model.add(BatchNormalization())\n",
    "# model.add(Conv2D(64, kernel_size=(3, 3), strides=2,padding='same', activation='relu'))\n",
    "# model.add(Dropout(0.4))\n",
    "model.add(Flatten())\n",
    "model.add(Dense(128, activation='relu'))\n",
    "model.add(Dropout(0.4))\n",
    "model.add(Dense(NUM_CLASSES, activation='softmax'))"
   ]
  },
  {
   "cell_type": "code",
   "execution_count": null,
   "metadata": {},
   "outputs": [],
   "source": [
    "# Compile the model\n",
    "model.compile(loss = \"categorical_crossentropy\", optimizer=\"adam\", metrics=[\"accuracy\"])"
   ]
  },
  {
   "cell_type": "code",
   "execution_count": null,
   "metadata": {},
   "outputs": [],
   "source": [
    "model.summary()"
   ]
  },
  {
   "cell_type": "code",
   "execution_count": null,
   "metadata": {},
   "outputs": [],
   "source": [
    "history = model.fit(x_shaped_treino, y_treino_catg,\n",
    "          batch_size=BATCH_SIZE,\n",
    "          epochs=NO_EPOCHS,\n",
    "          verbose=1,\n",
    "          validation_data=(x_shaped_val, y_val_catg))"
   ]
  },
  {
   "cell_type": "code",
   "execution_count": null,
   "metadata": {},
   "outputs": [],
   "source": [
    "#get the predictions for the test data\n",
    "predicted_classes = model.predict_classes(x_shaped_val)\n",
    "#get the indices to be plotted\n",
    "y_true = np.argmax(y_val_catg,axis=1)\n",
    "\n",
    "((y_true==predicted_classes).sum())/ y_true.shape"
   ]
  },
  {
   "cell_type": "markdown",
   "metadata": {},
   "source": [
    "### \"Forçando um dataset balanceado\""
   ]
  },
  {
   "cell_type": "code",
   "execution_count": null,
   "metadata": {},
   "outputs": [],
   "source": [
    "balanceamento = observacoes_por_classe.min()\n",
    "balanceamento"
   ]
  },
  {
   "cell_type": "code",
   "execution_count": null,
   "metadata": {},
   "outputs": [],
   "source": [
    "## Transformar numpy em dataframe para esse sorteio: ---\n",
    "df_treino = pd.DataFrame(x_train)\n",
    "df_treino['y'] =  pd.DataFrame(y_train)"
   ]
  },
  {
   "cell_type": "code",
   "execution_count": null,
   "metadata": {},
   "outputs": [],
   "source": [
    "df_treino"
   ]
  },
  {
   "cell_type": "code",
   "execution_count": null,
   "metadata": {},
   "outputs": [],
   "source": [
    "df_treino_balanceado = pd.DataFrame()\n",
    "for y in list(df_treino.y.unique()):\n",
    "    df_parcial = df_treino[df_treino.y==y].sample(n = balanceamento)\n",
    "    df_treino_balanceado = pd.concat([df_treino_balanceado, df_parcial])\n"
   ]
  },
  {
   "cell_type": "code",
   "execution_count": null,
   "metadata": {},
   "outputs": [],
   "source": [
    "y_train_balanceado = df_treino_balanceado.y.to_numpy()\n",
    "df_treino_balanceado.drop(columns=['y'], inplace = True)\n",
    "y_train_balanceado"
   ]
  },
  {
   "cell_type": "code",
   "execution_count": null,
   "metadata": {},
   "outputs": [],
   "source": [
    "x_train_balanceado = df_treino_balanceado.to_numpy() \n",
    "x_train_balanceado.shape"
   ]
  },
  {
   "cell_type": "markdown",
   "metadata": {},
   "source": [
    "## Refazendo os modelos, para o dataset balanceado"
   ]
  },
  {
   "cell_type": "markdown",
   "metadata": {},
   "source": [
    "### Dividindo entre treino e validação"
   ]
  },
  {
   "cell_type": "code",
   "execution_count": null,
   "metadata": {},
   "outputs": [],
   "source": [
    "x_treino,x_val, y_treino, y_val  = train_test_split(\n",
    "...     x_train_balanceado, y_train_balanceado, test_size=0.20)"
   ]
  },
  {
   "cell_type": "markdown",
   "metadata": {},
   "source": [
    "### Regressão Logística Multinomial"
   ]
  },
  {
   "cell_type": "code",
   "execution_count": null,
   "metadata": {},
   "outputs": [],
   "source": [
    "#logreg = LogisticRegression(multi_class='multinomial', solver='lbfgs', max_iter=1000)\n",
    "logreg = LogisticRegression(penalty='none', max_iter=1000)\n",
    "# fit the model on the whole dataset\n",
    "logreg.fit(x_treino, y_treino)"
   ]
  },
  {
   "cell_type": "code",
   "execution_count": null,
   "metadata": {},
   "outputs": [],
   "source": [
    "## Acurácia, acertos geral, na amostrane validação\n",
    "logreg.score(x_val, y_val)"
   ]
  },
  {
   "cell_type": "markdown",
   "metadata": {},
   "source": [
    "### Árvore de classificação:"
   ]
  },
  {
   "cell_type": "code",
   "execution_count": null,
   "metadata": {},
   "outputs": [],
   "source": [
    "arvore= tree.DecisionTreeClassifier()\n",
    "arvore.fit(x_treino, y_treino)"
   ]
  },
  {
   "cell_type": "code",
   "execution_count": null,
   "metadata": {},
   "outputs": [],
   "source": [
    "## Acurácia, acertos geral, na amostrane validação\n",
    "arvore.score(x_val, y_val)"
   ]
  },
  {
   "cell_type": "markdown",
   "metadata": {},
   "source": [
    "### 4 Vizinhos Mais Próximos:"
   ]
  },
  {
   "cell_type": "code",
   "execution_count": null,
   "metadata": {},
   "outputs": [],
   "source": [
    "clf = KNeighborsClassifier(n_neighbors=4, weights='distance', n_jobs=-1)\n",
    "print('Fitting', clf)\n",
    "clf.fit(x_treino, y_treino)\n",
    "print('Evaluating', clf)\n",
    "\n",
    "test_score = clf.score(x_val, y_val)\n",
    "print('Test accuracy:', test_score)"
   ]
  },
  {
   "cell_type": "markdown",
   "metadata": {},
   "source": [
    "### 5 Vizinhos Mais Próximos:"
   ]
  },
  {
   "cell_type": "code",
   "execution_count": null,
   "metadata": {},
   "outputs": [],
   "source": [
    "clf = KNeighborsClassifier(n_neighbors=5, weights='distance', n_jobs=-1)\n",
    "print('Fitting', clf)\n",
    "clf.fit(x_treino, y_treino)\n",
    "print('Evaluating', clf)\n",
    "\n",
    "test_score = clf.score(x_val, y_val)\n",
    "print('Test accuracy:', test_score)"
   ]
  },
  {
   "cell_type": "markdown",
   "metadata": {},
   "source": [
    "### 3 Vizinhos Mais Próximos:"
   ]
  },
  {
   "cell_type": "code",
   "execution_count": null,
   "metadata": {},
   "outputs": [],
   "source": [
    "clf = KNeighborsClassifier(n_neighbors=3, weights='distance', n_jobs=-1)\n",
    "print('Fitting', clf)\n",
    "clf.fit(x_treino, y_treino)\n",
    "print('Evaluating', clf)\n",
    "\n",
    "test_score = clf.score(x_val, y_val)\n",
    "print('Test accuracy:', test_score)"
   ]
  },
  {
   "cell_type": "markdown",
   "metadata": {},
   "source": [
    "### Floresta Aleatória:"
   ]
  },
  {
   "cell_type": "code",
   "execution_count": null,
   "metadata": {},
   "outputs": [],
   "source": [
    "ra_fo = RandomForestClassifier(n_estimators=100)\n",
    "ra_fo.fit(x_treino, y_treino)\n",
    "ra_fo.score(x_val, y_val)"
   ]
  },
  {
   "cell_type": "markdown",
   "metadata": {},
   "source": [
    "## Redes Neurais:"
   ]
  },
  {
   "cell_type": "code",
   "execution_count": null,
   "metadata": {},
   "outputs": [],
   "source": [
    "y_treino_catg = np_utils.to_categorical(y_treino)\n",
    "y_val_catg = np_utils.to_categorical(y_val)"
   ]
  },
  {
   "cell_type": "code",
   "execution_count": null,
   "metadata": {},
   "outputs": [],
   "source": [
    "IMG_ROWS = 28\n",
    "IMG_COLS = 28\n",
    "\n",
    "NUM_CLASSES = 49\n",
    "NO_EPOCHS = 25\n",
    "BATCH_SIZE = 128"
   ]
  },
  {
   "cell_type": "code",
   "execution_count": null,
   "metadata": {},
   "outputs": [],
   "source": [
    "num_images_train = x_treino.shape[0]\n",
    "x_shaped_treino = x_treino.reshape(num_images_train, IMG_ROWS, IMG_COLS, 1)\n",
    "\n",
    "num_images_val = x_val.shape[0]\n",
    "x_shaped_val = x_val.reshape(num_images_val, IMG_ROWS, IMG_COLS, 1)"
   ]
  },
  {
   "cell_type": "code",
   "execution_count": null,
   "metadata": {},
   "outputs": [],
   "source": [
    "# Model\n",
    "model = Sequential()\n",
    "# Add convolution 2D\n",
    "model.add(Conv2D(32, kernel_size=(3, 3),activation='relu', padding=\"same\",\n",
    "        kernel_initializer='he_normal',input_shape=(IMG_ROWS, IMG_COLS, 1)))\n",
    "\n",
    "model.add(BatchNormalization())\n",
    "\n",
    "model.add(Conv2D(32,kernel_size=(3, 3), activation='relu'))\n",
    "model.add(BatchNormalization())\n",
    "model.add(Conv2D(32,kernel_size=5,strides=2,padding='same',activation='relu'))\n",
    "model.add(MaxPooling2D((2, 2)))\n",
    "model.add(BatchNormalization())\n",
    "model.add(Dropout(0.4))\n",
    "# model.add(Conv2D(64, kernel_size=(3, 3), strides=2,padding='same', activation='relu'))\n",
    "# model.add(MaxPooling2D(pool_size=(2, 2)))\n",
    "# model.add(BatchNormalization())\n",
    "# model.add(Conv2D(64, kernel_size=(3, 3), strides=2,padding='same', activation='relu'))\n",
    "# model.add(Dropout(0.4))\n",
    "model.add(Flatten())\n",
    "model.add(Dense(128, activation='relu'))\n",
    "model.add(Dropout(0.4))\n",
    "model.add(Dense(NUM_CLASSES, activation='softmax'))\n",
    "\n",
    "# Compile the model\n",
    "model.compile(loss = \"categorical_crossentropy\", optimizer=\"adam\", metrics=[\"accuracy\"])\n",
    "\n",
    "model.summary()\n",
    "\n",
    "history = model.fit(x_shaped_treino, y_treino_catg,\n",
    "          batch_size=BATCH_SIZE,\n",
    "          epochs=NO_EPOCHS,\n",
    "          verbose=1,\n",
    "          validation_data=(x_shaped_val, y_val_catg))\n",
    "\n",
    "\n"
   ]
  },
  {
   "cell_type": "code",
   "execution_count": null,
   "metadata": {},
   "outputs": [],
   "source": [
    "\n",
    "#get the predictions for the test data\n",
    "predicted_classes = model.predict_classes(x_shaped_val)\n",
    "#get the indices to be plotted\n",
    "y_true = np.argmax(y_val_catg,axis=1)\n",
    "\n",
    "((y_true==predicted_classes).sum())/ y_true.shape"
   ]
  }
 ],
 "metadata": {
  "kernelspec": {
   "display_name": "Python 3",
   "language": "python",
   "name": "python3"
  },
  "language_info": {
   "codemirror_mode": {
    "name": "ipython",
    "version": 3
   },
   "file_extension": ".py",
   "mimetype": "text/x-python",
   "name": "python",
   "nbconvert_exporter": "python",
   "pygments_lexer": "ipython3",
   "version": "3.8.5"
  }
 },
 "nbformat": 4,
 "nbformat_minor": 4
}
